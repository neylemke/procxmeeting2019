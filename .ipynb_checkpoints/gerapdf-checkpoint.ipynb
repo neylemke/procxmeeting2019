{
 "cells": [
  {
   "cell_type": "markdown",
   "metadata": {
    "run_control": {
     "frozen": false,
     "read_only": false
    }
   },
   "source": [
    "# Gera pdfs"
   ]
  },
  {
   "cell_type": "markdown",
   "metadata": {
    "run_control": {
     "frozen": false,
     "read_only": false
    }
   },
   "source": [
    "## Carrega Pacotes"
   ]
  },
  {
   "cell_type": "code",
   "execution_count": 1,
   "metadata": {},
   "outputs": [
    {
     "name": "stdout",
     "output_type": "stream",
     "text": [
      "Requirement already satisfied: pandas in /home/lemke/.local/lib/python3.8/site-packages (1.1.4)\n",
      "Requirement already satisfied: pytz>=2017.2 in /usr/lib/python3/dist-packages (from pandas) (2019.3)\n",
      "Requirement already satisfied: python-dateutil>=2.7.3 in /usr/lib/python3/dist-packages (from pandas) (2.7.3)\n",
      "Requirement already satisfied: numpy>=1.15.4 in /home/lemke/.local/lib/python3.8/site-packages (from pandas) (1.19.4)\n"
     ]
    }
   ],
   "source": [
    "# Install a conda package in the current Jupyter kernel\n",
    "# Install a pip package in the current Jupyter kernel\n",
    "import sys\n",
    "!{sys.executable} -m pip install pandas"
   ]
  },
  {
   "cell_type": "code",
   "execution_count": null,
   "metadata": {},
   "outputs": [],
   "source": []
  },
  {
   "cell_type": "code",
   "execution_count": 2,
   "metadata": {},
   "outputs": [
    {
     "name": "stdout",
     "output_type": "stream",
     "text": [
      "Requirement already satisfied: titlecase in /home/lemke/.local/lib/python3.8/site-packages (1.1.1)\n",
      "Requirement already satisfied: regex>=2020.4.4 in /home/lemke/.local/lib/python3.8/site-packages (from titlecase) (2020.11.13)\n",
      "Requirement already satisfied: xlrd in /home/lemke/.local/lib/python3.8/site-packages (1.2.0)\n"
     ]
    }
   ],
   "source": [
    "\n",
    "!{sys.executable} -m pip install titlecase\n",
    "!{sys.executable} -m pip install xlrd"
   ]
  },
  {
   "cell_type": "code",
   "execution_count": 3,
   "metadata": {
    "ExecuteTime": {
     "end_time": "2017-10-14T23:21:51.265526Z",
     "start_time": "2017-10-14T23:21:50.460962Z"
    },
    "run_control": {
     "frozen": false,
     "read_only": false
    }
   },
   "outputs": [],
   "source": [
    "import pandas as pd\n",
    "import re\n",
    "from titlecase import titlecase"
   ]
  },
  {
   "cell_type": "markdown",
   "metadata": {
    "run_control": {
     "frozen": false,
     "read_only": false
    }
   },
   "source": [
    "## Define Constantes"
   ]
  },
  {
   "cell_type": "code",
   "execution_count": 99,
   "metadata": {
    "ExecuteTime": {
     "end_time": "2017-10-15T17:05:54.278104Z",
     "start_time": "2017-10-15T17:05:54.247738Z"
    },
    "run_control": {
     "frozen": false,
     "read_only": false
    }
   },
   "outputs": [],
   "source": [
    "\n",
    "strlatex = \"\"\"\n",
    "  \\\\documentclass[twoside]{{article}}\n",
    "  \\\\usepackage[affil-it]{{authblk}}\n",
    "  \\\\usepackage{{lipsum}} % Package to generate dummy text throughout \\\n",
    "this template\n",
    "  \\\\usepackage{{eurosym}}\n",
    "  \\\\usepackage[sc]{{mathpazo}} % Use the Palatino font\n",
    "  \\\\usepackage[T1]{{fontenc}} % Use 8-bit encoding that has 256 glyphs\n",
    "  \\\\usepackage[utf8]{{inputenc}}\n",
    "  \\\\linespread{{1.05}} % Line spacing-Palatino needs more space between \\\n",
    "lines\n",
    "  \\\\usepackage{{microtype}} % Slightly tweak font spacing for \\\n",
    "aesthetics\\[IndentingNewLine]\n",
    "  \\\\usepackage[hmarginratio=1:1,top=32mm,columnsep=20pt]{{geometry}} % \\\n",
    "Document margins\n",
    "  \\\\usepackage{{multicol}} % Used for the two-column layout of the \\\n",
    "document\n",
    "  \\\\usepackage[hang,small,labelfont=bf,up,textfont=it,up]{{caption}} % \\\n",
    "Custom captions under//above floats in tables or figures\n",
    "  \\\\usepackage{{booktabs}} % Horizontal rules in tables\n",
    "  \\\\usepackage{{float}} % Required for tables and figures in the \\\n",
    "multi-column environment-they need to be placed in specific locations \\\n",
    "with the[H] (e.g. \\\\begin{{table}}[H])\n",
    "  \\\\usepackage{{hyperref}} % For hyperlinks in the PDF\n",
    "  \\\\usepackage{{lettrine}} % The lettrine is the first enlarged letter \\\n",
    "at the beginning of the text\n",
    "  \\\\usepackage{{paralist}} % Used for the compactitem environment which \\\n",
    "makes bullet points with less space between them\n",
    "  \\\\usepackage{{abstract}} % Allows abstract customization\n",
    "  \\\\renewcommand{{\\\\abstractnamefont}}{{\\\\normalfont\\\\bfseries}} \n",
    "  %\\\\renewcommand{{\\\\abstracttextfont}}{{\\\\normalfont\\\\small\\\\itshape}} % \\\n",
    "Set the abstract itself to small italic text\\[IndentingNewLine]\n",
    "  \\\\usepackage{{titlesec}} % Allows customization of titles\n",
    "  \\\\renewcommand\\\\thesection{{\\\\Roman{{section}}}} % Roman numerals for \\\n",
    "the sections\n",
    "  \\\\renewcommand\\\\thesubsection{{\\\\Roman{{subsection}}}} % Roman numerals \\\n",
    "for subsections\n",
    "  \\\\titleformat{{\\\\section}}[block]{{\\\\large\\\\scshape\\\\centering}}{{\\\\\\\n",
    "thesection.}}{{1em}}{{}} % Change the look of the section titles\n",
    "  \\\\titleformat{{\\\\subsection}}[block]{{\\\\large}}{{\\\\thesubsection.}}{{1em}}{{}}\\\n",
    " % Change the look of the section titles\n",
    "  \\\\usepackage{{fancyhdr}} % Headers and footers\n",
    "  \\\\pagestyle{{fancy}} % All pages have headers and footers\n",
    "  \\\\fancyhead{{}} % Blank out the default header\n",
    "  \\\\fancyfoot{{}} % Blank out the default footer\n",
    "  \\\\fancyhead[C]{{X-meeting eXperience $\\\\bullet$ November 2020}} % Custom header text\n",
    "  \\\\fancyfoot[RO,LE]{{}} % Custom footer text\n",
    "  %----------------------------------------------------------------------------------------\n",
    "\\\n",
    "  % TITLE SECTION\n",
    "  %\\\n",
    "----------------------------------------------------------------------------------------\\\n",
    " \n",
    " \n",
    " \\\\title{{\\\\vspace{{-15mm}}\\\\fontsize{{24pt}}{{10pt}}\\\\selectfont\\\\textbf{{ {} }}}} % Article title\n",
    "  \n",
    "  \n",
    "  \\\\author{{ {} }}\n",
    "  \n",
    "  \\\\affil{{ {} }}\n",
    "  \\\\vspace{{-5mm}}\n",
    "  \\\\date{{}}\n",
    "  \n",
    "  %----------------------------------------------------------------------------------------\\\n",
    " \n",
    "  \n",
    "  \\\\begin{{document}}\n",
    "  \n",
    "  \n",
    "  \\\\maketitle % Insert title\n",
    "  \n",
    "  \n",
    "  \\\\thispagestyle{{fancy}} % All pages have headers and footers\\\n",
    "\n",
    "  %----------------------------------------------------------------------------------------\\\n",
    "  \n",
    "  % ABSTRACT\n",
    "  \n",
    "  %----------------------------------------------------------------------------------------\\\n",
    "  \n",
    "  \n",
    "  \\\\begin{{abstract}}\n",
    "  {}\n",
    "  \n",
    "  Funding: {} \\\\\\\\\n",
    "  \\\\href{{{}}}{{Link to Video:}}\n",
    "\n",
    "  \\\\end{{abstract}}\n",
    "   \n",
    "  \\\\end{{document}} \"\"\"\n",
    "\n",
    "strlatex1 = \"\"\"\n",
    "  \\\\documentclass[twoside]{{article}}\n",
    "  \\\\usepackage[affil-it]{{authblk}}\n",
    "  \\\\usepackage{{lipsum}} % Package to generate dummy text throughout \\\n",
    "this template\n",
    "  \\\\usepackage{{eurosym}}\n",
    "  \\\\usepackage[sc]{{mathpazo}} % Use the Palatino font\n",
    "  \\\\usepackage[T1]{{fontenc}} % Use 8-bit encoding that has 256 glyphs\n",
    "  \\\\usepackage[utf8]{{inputenc}}\n",
    "  \\\\linespread{{1.05}} % Line spacing-Palatino needs more space between \\\n",
    "lines\n",
    "  \\\\usepackage{{microtype}} % Slightly tweak font spacing for \\\n",
    "aesthetics\\[IndentingNewLine]\n",
    "  \\\\usepackage[hmarginratio=1:1,top=32mm,columnsep=20pt]{{geometry}} % \\\n",
    "Document margins\n",
    "  \\\\usepackage{{multicol}} % Used for the two-column layout of the \\\n",
    "document\n",
    "  \\\\usepackage[hang,small,labelfont=bf,up,textfont=it,up]{{caption}} % \\\n",
    "Custom captions under//above floats in tables or figures\n",
    "  \\\\usepackage{{booktabs}} % Horizontal rules in tables\n",
    "  \\\\usepackage{{float}} % Required for tables and figures in the \\\n",
    "multi-column environment-they need to be placed in specific locations \\\n",
    "with the[H] (e.g. \\\\begin{{table}}[H])\n",
    "  \\\\usepackage{{hyperref}} % For hyperlinks in the PDF\n",
    "  \\\\usepackage{{lettrine}} % The lettrine is the first enlarged letter \\\n",
    "at the beginning of the text\n",
    "  \\\\usepackage{{paralist}} % Used for the compactitem environment which \\\n",
    "makes bullet points with less space between them\n",
    "  \\\\usepackage{{abstract}} % Allows abstract customization\n",
    "  \\\\renewcommand{{\\\\abstractnamefont}}{{\\\\normalfont\\\\bfseries}} \n",
    "  %\\\\renewcommand{{\\\\abstracttextfont}}{{\\\\normalfont\\\\small\\\\itshape}} % \\\n",
    "Set the abstract itself to small italic text\\[IndentingNewLine]\n",
    "  \\\\usepackage{{titlesec}} % Allows customization of titles\n",
    "  \\\\renewcommand\\\\thesection{{\\\\Roman{{section}}}} % Roman numerals for \\\n",
    "the sections\n",
    "  \\\\renewcommand\\\\thesubsection{{\\\\Roman{{subsection}}}} % Roman numerals \\\n",
    "for subsections\n",
    "  \\\\titleformat{{\\\\section}}[block]{{\\\\large\\\\scshape\\\\centering}}{{\\\\\\\n",
    "thesection.}}{{1em}}{{}} % Change the look of the section titles\n",
    "  \\\\titleformat{{\\\\subsection}}[block]{{\\\\large}}{{\\\\thesubsection.}}{{1em}}{{}}\\\n",
    " % Change the look of the section titles\n",
    "  \\\\usepackage{{fancyhdr}} % Headers and footers\n",
    "  \\\\pagestyle{{fancy}} % All pages have headers and footers\n",
    "  \\\\fancyhead{{}} % Blank out the default header\n",
    "  \\\\fancyfoot{{}} % Blank out the default footer\n",
    "  \\\\fancyhead[C]{{X-meeting eXperience $\\\\bullet$ November 2020 }} % Custom header text\n",
    "  \\\\fancyfoot[RO,LE]{{}} % Custom footer text\n",
    "  %----------------------------------------------------------------------------------------\n",
    "\\\n",
    "  % TITLE SECTION\n",
    "  %\\\n",
    "----------------------------------------------------------------------------------------\\\n",
    " \n",
    " \n",
    " \\\\title{{\\\\vspace{{-15mm}}\\\\fontsize{{24pt}}{{10pt}}\\\\selectfont\\\\textbf{{ {} }}}} % Article title\n",
    "  \n",
    "  \n",
    "  \\\\author{{ {} }}\n",
    "  \n",
    "  \\\\affil{{ {} }}\n",
    "  \\\\vspace{{-5mm}}\n",
    "  \\\\date{{}}\n",
    "  \n",
    "  %----------------------------------------------------------------------------------------\\\n",
    " \n",
    "  \n",
    "  \\\\begin{{document}}\n",
    "  \n",
    "  \n",
    "  \\\\maketitle % Insert title\n",
    "  \n",
    "  \n",
    "  \\\\thispagestyle{{fancy}} % All pages have headers and footers\\\n",
    "\n",
    "  %----------------------------------------------------------------------------------------\\\n",
    "  \n",
    "  % ABSTRACT\n",
    "  \n",
    "  %----------------------------------------------------------------------------------------\\\n",
    "  \n",
    "  \\\\href{{{}}}{{Link to Video}}\n",
    "  \\\\end{{document}} \"\"\"\n",
    "\n",
    "\n",
    "strlatex2 = \"\"\"\\\\procpaper[switch=45,\n",
    "    title={{{}}}, \n",
    "    author={{{}}}, \n",
    "    index={{{{{}}}}}]\n",
    "    {{{}}} \\n\\n \"\"\"\n",
    "\n",
    "replacements={\"Î¦\" : \"$\\\\Phi$ \", \"\\'\" : \"'\", \"ﬁ\" : \"fi\", \"á\" : \"\\\\'a\",\n",
    " \"\\[Gamma]\" : \"$\\\\gamma$\", \"ï\\[Not]<81>\" : \"fi\",\n",
    " \"\\[RightArrow]\" : \"$\\\\rightarrow$\", \" Î\\.b3\" : \"$ \\\\gamma$\",\n",
    " \" â<86><92> â<88><9e>\" : \" $\\\\rightarrow$\", \"â<80>\\.b2\" : \"'\",\n",
    " \"Â\\[PlusMinus]\" : \"$\\\\pm$\", \"â<89>¤\" : \"$\\\\leq$\",\n",
    " \"Â\\[Degree]\" :  \"$^o$\", \"\\Âº\" : \"$^o$\", \" \\â<84>¢ CL\" : \" \",\n",
    " \"Â\\.b4\" : \"'\", \"â<89>¥\" : \"$\\\\leq$\", \"â<80><8b>â\" : \" \", \"¹\" : \"1\",\n",
    " \"â\" : \"\\\\^a\", \"\\[OpenCurlyDoubleQuote]\" : \"``\",\n",
    " \"\\[CloseCurlyDoubleQuote]\" : \"''\", \"ã\" : \"\\\\~a\", \"á\" : \"\\\\'a\",\n",
    " \"ê\" : \"\\\\^e\", \"é\" : \"\\\\'e\", \"õ\" : \"\\\\~o\", \"ó\" : \"\\\\'o\",\n",
    " \"ô\" : \"\\\\^o\", \"ú\" : \"\\\\'u\", \"ç\" : \"\\\\c{c}\", \"í\" : \"\\\\'{\\\\i}\",\n",
    " \"Ã\" : \"\\\\~A\", \"Á\" : \"\\\\'A\", \"Ê\" : \"\\\\^E\", \"É\" : \"\\\\'E\",\n",
    " \"Õ\" : \"\\\\~O\", \"Ó\" : \"\\\\'O\", \"Ô\" : \"\\\\^O\", \"Ú\" : \"\\\\'U\",\n",
    " \"Ç\" : \"\\\\c{C}\", \"Í\" : \"\\\\'I\", \"Å\" : \"$\\\\AA$\", \"ß\" : \"$\\\\beta$\",\n",
    " \"\\[CloseCurlyQuote]\" : \"'\", \"\\[OpenCurlyQuote]\" : \"'\", \"%\" : \"\\\\%\",\n",
    "  \"ß\" : \"$\\\\beta$\",  \"_\" : \"\\\\_\",         \n",
    "              \"±\":\"$\\pm$\",\n",
    "              \"´\":\"\", \"µ\":\"$\\mu$\",\n",
    "              \",\":\", \",\n",
    "              \"&\":\"\\&\",\n",
    " \"ö\" : \"\\\\\\\"o\", \"ü\" : \"\\\\\\\"u\",\n",
    " \"à\" : \"\\\\`a\", \"À\" : \"\\\\`A\", \"€\": \"\\\\euro\",\n",
    " \"®\" : \"\\\\textsuperscript{\\\\textcopyright}\", \"¾\" : \"3/4\",\n",
    " \"ñ\" : \"\\\\~n\", \"ï\" : \"\\\\\\\"{\\\\i}\", \"I'\" : \"\\\\'I\", \"#\" : \"\\\\#\",\n",
    " \"i\\.b4\" : \"\\\\'{\\\\i}\",\n",
    " \" \" : \" \",  \"°\" : \"$^o$\"}\n",
    "prefix=\"\""
   ]
  },
  {
   "cell_type": "markdown",
   "metadata": {
    "run_control": {
     "frozen": false,
     "read_only": false
    }
   },
   "source": [
    "## Funções Gerais"
   ]
  },
  {
   "cell_type": "code",
   "execution_count": 100,
   "metadata": {
    "ExecuteTime": {
     "end_time": "2017-10-14T23:21:53.242578Z",
     "start_time": "2017-10-14T23:21:53.232501Z"
    },
    "run_control": {
     "frozen": false,
     "read_only": false
    }
   },
   "outputs": [],
   "source": [
    "def namecase(str):\n",
    "    \"\"\"Converte Strings para Capitalização Brasileira\"\"\"\n",
    "    lissubs=[(\" De \",\" de \"),(\" Do \",\" do \"), (\" Da \", \" da \"), (\" Das \", \" das \"),\n",
    "             (\" Dos \",\" dos \")]\n",
    "    str2=titlecase(str)\n",
    "    for subs in lissubs:\n",
    "        str2=str2.replace(subs[0],subs[1])\n",
    "    return str2\n",
    "\n"
   ]
  },
  {
   "cell_type": "code",
   "execution_count": 101,
   "metadata": {
    "ExecuteTime": {
     "end_time": "2017-10-14T23:21:53.967172Z",
     "start_time": "2017-10-14T23:21:53.960119Z"
    },
    "run_control": {
     "frozen": false,
     "read_only": false
    }
   },
   "outputs": [],
   "source": [
    "def brnames(str):\n",
    "    \"\"\"Gera Nomes para a regra ABNT\"\"\"\n",
    "    lis=str.split(\" \")\n",
    "    str2=lis[-1]+ \", \"\n",
    "    for word in lis[0:-1]:\n",
    "        str2=str2+\" \"+word\n",
    "    return str2"
   ]
  },
  {
   "cell_type": "code",
   "execution_count": 102,
   "metadata": {
    "ExecuteTime": {
     "end_time": "2017-10-14T23:21:54.656750Z",
     "start_time": "2017-10-14T23:21:54.648899Z"
    },
    "run_control": {
     "frozen": false,
     "read_only": false
    }
   },
   "outputs": [],
   "source": [
    "def orderedunion(lis):\n",
    "    \"\"\"Elimina Repetições e mantém a ordem\"\"\"\n",
    "    lis2=[]\n",
    "    for elem in lis:\n",
    "        if not (elem in lis2):\n",
    "            lis2.append(elem)\n",
    "    return lis2"
   ]
  },
  {
   "cell_type": "code",
   "execution_count": 103,
   "metadata": {
    "ExecuteTime": {
     "end_time": "2017-10-15T01:21:52.423139Z",
     "start_time": "2017-10-15T01:21:52.380890Z"
    }
   },
   "outputs": [],
   "source": [
    "\n",
    "\n",
    "def fixbin(string,replacements):\n",
    "    for k, v in replacements.items():\n",
    "        string=string.replace(k, v)\n",
    "    return string"
   ]
  },
  {
   "cell_type": "markdown",
   "metadata": {
    "run_control": {
     "frozen": false,
     "read_only": false
    }
   },
   "source": [
    "\n",
    "\n",
    "\n",
    "## Funções Específicas\n"
   ]
  },
  {
   "cell_type": "code",
   "execution_count": 104,
   "metadata": {
    "ExecuteTime": {
     "end_time": "2017-10-15T01:21:55.435750Z",
     "start_time": "2017-10-15T01:21:55.427551Z"
    },
    "run_control": {
     "frozen": false,
     "read_only": false
    }
   },
   "outputs": [],
   "source": [
    "def geraAuthors(str):\n",
    "    \"\"\"Gera uma Lista de Autores\"\"\"\n",
    "    m = re.findall('[^(),]+\\([^()]+[^()]+\\)', str)\n",
    "    return [namecase(word.split(\"(\")[0].strip()) for word in m]\n",
    "\n",
    "def geraAfil(str):\n",
    "    \"\"\"Gera uma lista de Afiliações\"\"\"\n",
    "    m = re.findall('\\([^()]+[^()]+\\)', str)\n",
    "    return [inst[1:-1] for inst in m]"
   ]
  },
  {
   "cell_type": "code",
   "execution_count": 105,
   "metadata": {
    "ExecuteTime": {
     "end_time": "2017-10-15T01:21:56.042119Z",
     "start_time": "2017-10-15T01:21:56.024340Z"
    },
    "run_control": {
     "frozen": false,
     "read_only": false
    }
   },
   "outputs": [],
   "source": [
    "\n",
    "\n",
    "\n",
    "def geraStringAfilOld(lis):\n",
    "    lisafil=orderedunion(lis)\n",
    "    stringafil=\"\" \n",
    "    i=1\n",
    "    for inst in lisafil:\n",
    "        stringafil=stringafil+str(i)+\" \"+inst+\"\\n\\n\"\n",
    "        i=i+1\n",
    "    return stringafil\n",
    "\n",
    "def geraStringAfil(lis):\n",
    "    return fixbin(record[\"Institution\"],replacements)\n",
    "    \n",
    "def geraStringAuthorsOld(record):\n",
    "    lisafil=record[\"Afil\"]\n",
    "    lisauthors=record[\"Authors\"]\n",
    "    dictauthors={}\n",
    "    dictafil={}\n",
    "    lisafilorder=orderedunion(lisafil)\n",
    "    for i in range(len(lisauthors)):\n",
    "        dictauthors[lisauthors[i]]=lisafil[i]\n",
    "    for i in range(len(lisafilorder)):\n",
    "        dictafil[lisafilorder[i]]=i\n",
    "    strsaida=\"\"\n",
    "    for author in lisauthors:\n",
    "        num=dictafil[dictauthors[author]]\n",
    "        strsaida=strsaida+author+\"$^{\"+str(num+1)+\"}$, \"\n",
    "    return strsaida[:-1]\n",
    "\n",
    "def geraStringAuthors(record):\n",
    "    return record[\"Autores\"]\n",
    "\n",
    "    "
   ]
  },
  {
   "cell_type": "markdown",
   "metadata": {
    "run_control": {
     "frozen": false,
     "read_only": false
    }
   },
   "source": [
    "## Entrada dos Dados"
   ]
  },
  {
   "cell_type": "code",
   "execution_count": 106,
   "metadata": {},
   "outputs": [
    {
     "name": "stdout",
     "output_type": "stream",
     "text": [
      "procxmeeting2019  procxmeeting2020  RelatorioeXperience2020.xlsx\n"
     ]
    }
   ],
   "source": [
    "!ls .."
   ]
  },
  {
   "cell_type": "code",
   "execution_count": 107,
   "metadata": {},
   "outputs": [
    {
     "name": "stdout",
     "output_type": "stream",
     "text": [
      "/home/lemke/AB3C/procxmeeting2020\n"
     ]
    }
   ],
   "source": [
    "!pwd"
   ]
  },
  {
   "cell_type": "code",
   "execution_count": 108,
   "metadata": {
    "ExecuteTime": {
     "end_time": "2017-10-15T01:21:57.115776Z",
     "start_time": "2017-10-15T01:21:57.048074Z"
    },
    "run_control": {
     "frozen": false,
     "read_only": false
    }
   },
   "outputs": [],
   "source": [
    "artsds=pd.read_excel('../RelatorioeXperience2020.xlsx',index_col=0)"
   ]
  },
  {
   "cell_type": "code",
   "execution_count": 109,
   "metadata": {},
   "outputs": [
    {
     "data": {
      "text/html": [
       "<div>\n",
       "<style scoped>\n",
       "    .dataframe tbody tr th:only-of-type {\n",
       "        vertical-align: middle;\n",
       "    }\n",
       "\n",
       "    .dataframe tbody tr th {\n",
       "        vertical-align: top;\n",
       "    }\n",
       "\n",
       "    .dataframe thead th {\n",
       "        text-align: right;\n",
       "    }\n",
       "</style>\n",
       "<table border=\"1\" class=\"dataframe\">\n",
       "  <thead>\n",
       "    <tr style=\"text-align: right;\">\n",
       "      <th></th>\n",
       "      <th>Título</th>\n",
       "      <th>Modalidade</th>\n",
       "      <th>Área temática</th>\n",
       "      <th>Situação</th>\n",
       "      <th>Apresentado</th>\n",
       "      <th>Funding</th>\n",
       "      <th>Resumo</th>\n",
       "      <th>Anexo</th>\n",
       "      <th>Autores</th>\n",
       "      <th>Emails dos autores</th>\n",
       "      <th>Instituições dos autores</th>\n",
       "      <th>Apresentadores</th>\n",
       "    </tr>\n",
       "    <tr>\n",
       "      <th>Número</th>\n",
       "      <th></th>\n",
       "      <th></th>\n",
       "      <th></th>\n",
       "      <th></th>\n",
       "      <th></th>\n",
       "      <th></th>\n",
       "      <th></th>\n",
       "      <th></th>\n",
       "      <th></th>\n",
       "      <th></th>\n",
       "      <th></th>\n",
       "      <th></th>\n",
       "    </tr>\n",
       "  </thead>\n",
       "  <tbody>\n",
       "    <tr>\n",
       "      <th>293609</th>\n",
       "      <td>FERRAMENTA BASEADA EM CUCKOO FILTER PARA REMOÇ...</td>\n",
       "      <td>Thesis and Dissertation Award</td>\n",
       "      <td>Database and Software Development</td>\n",
       "      <td>Aprovado</td>\n",
       "      <td>Sim</td>\n",
       "      <td>Não respondido</td>\n",
       "      <td>NaN</td>\n",
       "      <td>https://even3.blob.core.windows.net/processos/...</td>\n",
       "      <td>Adonney Allan de Oliveira Veras, Antonio Sérgi...</td>\n",
       "      <td>allanverasce@gmail.com, sergiogaia@gmail.com</td>\n",
       "      <td>Não Respondeu, UNIVERSIDADE FEDERAL DO PARÁ</td>\n",
       "      <td>Adonney Allan de Oliveira Veras</td>\n",
       "    </tr>\n",
       "    <tr>\n",
       "      <th>294413</th>\n",
       "      <td>A database of viral taxon-specific profile HMM...</td>\n",
       "      <td>Poster</td>\n",
       "      <td>Database and Software Development</td>\n",
       "      <td>Aprovado</td>\n",
       "      <td>Sim</td>\n",
       "      <td>Não respondido</td>\n",
       "      <td>Viruses are the most abundant and diverse biol...</td>\n",
       "      <td>NaN</td>\n",
       "      <td>Wendel Hime Lima Castro, Arthur Gruber, Lilian...</td>\n",
       "      <td>wendelhime@gmail.com, argruber@usp.br, liliane...</td>\n",
       "      <td>Não Respondeu, UNIVERSIDADE DE SÃO PAULO, UNIV...</td>\n",
       "      <td>Liliane Santana Oliveira Kashiwabara</td>\n",
       "    </tr>\n",
       "    <tr>\n",
       "      <th>294641</th>\n",
       "      <td>Metatranscriptomics analysis reveals diverse v...</td>\n",
       "      <td>Poster</td>\n",
       "      <td>RNA and Transcriptomics</td>\n",
       "      <td>Aprovado</td>\n",
       "      <td>Sim</td>\n",
       "      <td>Não respondido</td>\n",
       "      <td>Bovine papillomavirus (BPV) is the pathogen as...</td>\n",
       "      <td>NaN</td>\n",
       "      <td>GERLANE DOS SANTOS BARROS, Marcus Vinicius de ...</td>\n",
       "      <td>gerlane15@live.com, mvabatista@hotmail.com, ad...</td>\n",
       "      <td>Não Respondeu, Não Respondeu, Federal Universi...</td>\n",
       "      <td>Adriana de Oliveira Fernandes</td>\n",
       "    </tr>\n",
       "    <tr>\n",
       "      <th>296059</th>\n",
       "      <td>A survey of bacterial and archaeal genomes rev...</td>\n",
       "      <td>Poster</td>\n",
       "      <td>Genes and Genomics</td>\n",
       "      <td>Aprovado</td>\n",
       "      <td>Sim</td>\n",
       "      <td>Não respondido</td>\n",
       "      <td>Casposons comprise a superfamily of self-synth...</td>\n",
       "      <td>NaN</td>\n",
       "      <td>Liliane Santana Oliveira Kashiwabara, Bas Duti...</td>\n",
       "      <td>liliane.sntn@gmail.com, bedutilh@gmail.com, ar...</td>\n",
       "      <td>UNIVERSIDADE TECNOLÓGICA FEDERAL DO PARANÁ, Nã...</td>\n",
       "      <td>Táriky Meirelles Rocha</td>\n",
       "    </tr>\n",
       "    <tr>\n",
       "      <th>296609</th>\n",
       "      <td>GenTreat: Computational pipeline to perform au...</td>\n",
       "      <td>Poster</td>\n",
       "      <td>Genes and Genomics</td>\n",
       "      <td>Aprovado</td>\n",
       "      <td>Sim</td>\n",
       "      <td>Não respondido</td>\n",
       "      <td>Since the development of the NGS (Next-Generat...</td>\n",
       "      <td>NaN</td>\n",
       "      <td>Gislenne da Silva Moia, Mônica Silva de Olivei...</td>\n",
       "      <td>gislenne.moia@tucurui.ufpa.br, monicasilva@ufp...</td>\n",
       "      <td>UNIVERSIDADE FEDERAL DO PARÁ, Não Respondeu, N...</td>\n",
       "      <td>Victória Cardoso dos Santos</td>\n",
       "    </tr>\n",
       "    <tr>\n",
       "      <th>...</th>\n",
       "      <td>...</td>\n",
       "      <td>...</td>\n",
       "      <td>...</td>\n",
       "      <td>...</td>\n",
       "      <td>...</td>\n",
       "      <td>...</td>\n",
       "      <td>...</td>\n",
       "      <td>...</td>\n",
       "      <td>...</td>\n",
       "      <td>...</td>\n",
       "      <td>...</td>\n",
       "      <td>...</td>\n",
       "    </tr>\n",
       "    <tr>\n",
       "      <th>305749</th>\n",
       "      <td>Autophagy related genes influence global survi...</td>\n",
       "      <td>Poster</td>\n",
       "      <td>RNA and Transcriptomics</td>\n",
       "      <td>Aprovado</td>\n",
       "      <td>Sim</td>\n",
       "      <td>Intituto do Câncer Infantil Instituto do Cânce...</td>\n",
       "      <td>Ewing's sarcoma (ES) is a highly aggressive tu...</td>\n",
       "      <td>NaN</td>\n",
       "      <td>Mauricio Gomes, Ricardo M. Ferreira, Caroline ...</td>\n",
       "      <td>mau.gomes@hotmail.com, ricmelof@gmail.com, car...</td>\n",
       "      <td>UFRGS, Não Respondeu, Não Respondeu, Não Respo...</td>\n",
       "      <td>Matheus Dalmolin</td>\n",
       "    </tr>\n",
       "    <tr>\n",
       "      <th>305812</th>\n",
       "      <td>Unraveling potential probiotic features in the...</td>\n",
       "      <td>Poster</td>\n",
       "      <td>Genes and Genomics</td>\n",
       "      <td>Aprovado</td>\n",
       "      <td>Sim</td>\n",
       "      <td>CAPES</td>\n",
       "      <td>The vaginal microbiota is dominated by lactoba...</td>\n",
       "      <td>NaN</td>\n",
       "      <td>Flavia Figueira Aburjaile, Rodrigo Profeta Sil...</td>\n",
       "      <td>faburjaile@gmail.com, profeta.biotec@gmail.com...</td>\n",
       "      <td>IOC/Fiocruz, UNIVERSIDADE FEDERAL DE MINAS GER...</td>\n",
       "      <td>Rodrigo Dias de Oliveira Carvalho</td>\n",
       "    </tr>\n",
       "    <tr>\n",
       "      <th>307886</th>\n",
       "      <td>Predicting melting temperatures and deriving h...</td>\n",
       "      <td>Poster</td>\n",
       "      <td>Genes and Genomics</td>\n",
       "      <td>Aprovado</td>\n",
       "      <td>Não</td>\n",
       "      <td>capes,cnpq</td>\n",
       "      <td>Locked nucleic acids are nucleic acids modifie...</td>\n",
       "      <td>NaN</td>\n",
       "      <td>Gerald Weber, Izabela Ferreira</td>\n",
       "      <td>gweberbh@gmail.com, izabelaferreira13@gmail.com</td>\n",
       "      <td>UFMG - Departamento de Física, UFMG - UNIVERSI...</td>\n",
       "      <td>Izabela Ferreira</td>\n",
       "    </tr>\n",
       "    <tr>\n",
       "      <th>307927</th>\n",
       "      <td>First-ever described Virome of the Amazonian L...</td>\n",
       "      <td>Poster</td>\n",
       "      <td>Phylogeny and Evolution</td>\n",
       "      <td>Aprovado</td>\n",
       "      <td>Sim</td>\n",
       "      <td>CAPES; FAPESPA; FAPEMIG</td>\n",
       "      <td>The availability of safe water supplies and ad...</td>\n",
       "      <td>NaN</td>\n",
       "      <td>Bruna Verônica Azevedo Gois, Kenny da Costa Pi...</td>\n",
       "      <td>brnagois@gmail.com, kennybiotec@gmail.com, and...</td>\n",
       "      <td>UNIVERSIDADE DO ESTADO DO PARÁ, Não Respondeu,...</td>\n",
       "      <td>Wylerson Guimarães Nogueira</td>\n",
       "    </tr>\n",
       "    <tr>\n",
       "      <th>307952</th>\n",
       "      <td>Assembly, annotation and gene editing of the g...</td>\n",
       "      <td>Poster</td>\n",
       "      <td>Phylogeny and Evolution</td>\n",
       "      <td>Aprovado</td>\n",
       "      <td>Sim</td>\n",
       "      <td>CAPES</td>\n",
       "      <td>Leishmania (Leishmania) amazonensis is one of ...</td>\n",
       "      <td>NaN</td>\n",
       "      <td>Carlos Rodolpho Ferreira Brasil, João Luís Rei...</td>\n",
       "      <td>rudi.brasil@gmail.com, jaumlrc@gmail.com, ande...</td>\n",
       "      <td>Não Respondeu, UNIVERSIDADE FEDERAL DE MINAS G...</td>\n",
       "      <td>Wanessa Moreira Goes</td>\n",
       "    </tr>\n",
       "  </tbody>\n",
       "</table>\n",
       "<p>82 rows × 12 columns</p>\n",
       "</div>"
      ],
      "text/plain": [
       "                                                   Título  \\\n",
       "Número                                                      \n",
       "293609  FERRAMENTA BASEADA EM CUCKOO FILTER PARA REMOÇ...   \n",
       "294413  A database of viral taxon-specific profile HMM...   \n",
       "294641  Metatranscriptomics analysis reveals diverse v...   \n",
       "296059  A survey of bacterial and archaeal genomes rev...   \n",
       "296609  GenTreat: Computational pipeline to perform au...   \n",
       "...                                                   ...   \n",
       "305749  Autophagy related genes influence global survi...   \n",
       "305812  Unraveling potential probiotic features in the...   \n",
       "307886  Predicting melting temperatures and deriving h...   \n",
       "307927  First-ever described Virome of the Amazonian L...   \n",
       "307952  Assembly, annotation and gene editing of the g...   \n",
       "\n",
       "                           Modalidade                      Área temática  \\\n",
       "Número                                                                     \n",
       "293609  Thesis and Dissertation Award  Database and Software Development   \n",
       "294413                         Poster  Database and Software Development   \n",
       "294641                         Poster            RNA and Transcriptomics   \n",
       "296059                         Poster                 Genes and Genomics   \n",
       "296609                         Poster                 Genes and Genomics   \n",
       "...                               ...                                ...   \n",
       "305749                         Poster            RNA and Transcriptomics   \n",
       "305812                         Poster                 Genes and Genomics   \n",
       "307886                         Poster                 Genes and Genomics   \n",
       "307927                         Poster            Phylogeny and Evolution   \n",
       "307952                         Poster            Phylogeny and Evolution   \n",
       "\n",
       "        Situação Apresentado  \\\n",
       "Número                         \n",
       "293609  Aprovado         Sim   \n",
       "294413  Aprovado         Sim   \n",
       "294641  Aprovado         Sim   \n",
       "296059  Aprovado         Sim   \n",
       "296609  Aprovado         Sim   \n",
       "...          ...         ...   \n",
       "305749  Aprovado         Sim   \n",
       "305812  Aprovado         Sim   \n",
       "307886  Aprovado         Não   \n",
       "307927  Aprovado         Sim   \n",
       "307952  Aprovado         Sim   \n",
       "\n",
       "                                                  Funding  \\\n",
       "Número                                                      \n",
       "293609                                     Não respondido   \n",
       "294413                                     Não respondido   \n",
       "294641                                     Não respondido   \n",
       "296059                                     Não respondido   \n",
       "296609                                     Não respondido   \n",
       "...                                                   ...   \n",
       "305749  Intituto do Câncer Infantil Instituto do Cânce...   \n",
       "305812                                              CAPES   \n",
       "307886                                         capes,cnpq   \n",
       "307927                            CAPES; FAPESPA; FAPEMIG   \n",
       "307952                                              CAPES   \n",
       "\n",
       "                                                   Resumo  \\\n",
       "Número                                                      \n",
       "293609                                                NaN   \n",
       "294413  Viruses are the most abundant and diverse biol...   \n",
       "294641  Bovine papillomavirus (BPV) is the pathogen as...   \n",
       "296059  Casposons comprise a superfamily of self-synth...   \n",
       "296609  Since the development of the NGS (Next-Generat...   \n",
       "...                                                   ...   \n",
       "305749  Ewing's sarcoma (ES) is a highly aggressive tu...   \n",
       "305812  The vaginal microbiota is dominated by lactoba...   \n",
       "307886  Locked nucleic acids are nucleic acids modifie...   \n",
       "307927  The availability of safe water supplies and ad...   \n",
       "307952  Leishmania (Leishmania) amazonensis is one of ...   \n",
       "\n",
       "                                                    Anexo  \\\n",
       "Número                                                      \n",
       "293609  https://even3.blob.core.windows.net/processos/...   \n",
       "294413                                                NaN   \n",
       "294641                                                NaN   \n",
       "296059                                                NaN   \n",
       "296609                                                NaN   \n",
       "...                                                   ...   \n",
       "305749                                                NaN   \n",
       "305812                                                NaN   \n",
       "307886                                                NaN   \n",
       "307927                                                NaN   \n",
       "307952                                                NaN   \n",
       "\n",
       "                                                  Autores  \\\n",
       "Número                                                      \n",
       "293609  Adonney Allan de Oliveira Veras, Antonio Sérgi...   \n",
       "294413  Wendel Hime Lima Castro, Arthur Gruber, Lilian...   \n",
       "294641  GERLANE DOS SANTOS BARROS, Marcus Vinicius de ...   \n",
       "296059  Liliane Santana Oliveira Kashiwabara, Bas Duti...   \n",
       "296609  Gislenne da Silva Moia, Mônica Silva de Olivei...   \n",
       "...                                                   ...   \n",
       "305749  Mauricio Gomes, Ricardo M. Ferreira, Caroline ...   \n",
       "305812  Flavia Figueira Aburjaile, Rodrigo Profeta Sil...   \n",
       "307886                     Gerald Weber, Izabela Ferreira   \n",
       "307927  Bruna Verônica Azevedo Gois, Kenny da Costa Pi...   \n",
       "307952  Carlos Rodolpho Ferreira Brasil, João Luís Rei...   \n",
       "\n",
       "                                       Emails dos autores  \\\n",
       "Número                                                      \n",
       "293609       allanverasce@gmail.com, sergiogaia@gmail.com   \n",
       "294413  wendelhime@gmail.com, argruber@usp.br, liliane...   \n",
       "294641  gerlane15@live.com, mvabatista@hotmail.com, ad...   \n",
       "296059  liliane.sntn@gmail.com, bedutilh@gmail.com, ar...   \n",
       "296609  gislenne.moia@tucurui.ufpa.br, monicasilva@ufp...   \n",
       "...                                                   ...   \n",
       "305749  mau.gomes@hotmail.com, ricmelof@gmail.com, car...   \n",
       "305812  faburjaile@gmail.com, profeta.biotec@gmail.com...   \n",
       "307886    gweberbh@gmail.com, izabelaferreira13@gmail.com   \n",
       "307927  brnagois@gmail.com, kennybiotec@gmail.com, and...   \n",
       "307952  rudi.brasil@gmail.com, jaumlrc@gmail.com, ande...   \n",
       "\n",
       "                                 Instituições dos autores  \\\n",
       "Número                                                      \n",
       "293609        Não Respondeu, UNIVERSIDADE FEDERAL DO PARÁ   \n",
       "294413  Não Respondeu, UNIVERSIDADE DE SÃO PAULO, UNIV...   \n",
       "294641  Não Respondeu, Não Respondeu, Federal Universi...   \n",
       "296059  UNIVERSIDADE TECNOLÓGICA FEDERAL DO PARANÁ, Nã...   \n",
       "296609  UNIVERSIDADE FEDERAL DO PARÁ, Não Respondeu, N...   \n",
       "...                                                   ...   \n",
       "305749  UFRGS, Não Respondeu, Não Respondeu, Não Respo...   \n",
       "305812  IOC/Fiocruz, UNIVERSIDADE FEDERAL DE MINAS GER...   \n",
       "307886  UFMG - Departamento de Física, UFMG - UNIVERSI...   \n",
       "307927  UNIVERSIDADE DO ESTADO DO PARÁ, Não Respondeu,...   \n",
       "307952  Não Respondeu, UNIVERSIDADE FEDERAL DE MINAS G...   \n",
       "\n",
       "                              Apresentadores  \n",
       "Número                                        \n",
       "293609       Adonney Allan de Oliveira Veras  \n",
       "294413  Liliane Santana Oliveira Kashiwabara  \n",
       "294641         Adriana de Oliveira Fernandes  \n",
       "296059                Táriky Meirelles Rocha  \n",
       "296609           Victória Cardoso dos Santos  \n",
       "...                                      ...  \n",
       "305749                      Matheus Dalmolin  \n",
       "305812     Rodrigo Dias de Oliveira Carvalho  \n",
       "307886                      Izabela Ferreira  \n",
       "307927           Wylerson Guimarães Nogueira  \n",
       "307952                  Wanessa Moreira Goes  \n",
       "\n",
       "[82 rows x 12 columns]"
      ]
     },
     "execution_count": 109,
     "metadata": {},
     "output_type": "execute_result"
    }
   ],
   "source": [
    "artsds"
   ]
  },
  {
   "cell_type": "markdown",
   "metadata": {
    "run_control": {
     "frozen": false,
     "read_only": false
    }
   },
   "source": [
    "Insere duas colunas no lugar da Coluna de Autores"
   ]
  },
  {
   "cell_type": "code",
   "execution_count": 110,
   "metadata": {},
   "outputs": [
    {
     "data": {
      "text/plain": [
       "Index(['Título', 'Modalidade', 'Área temática', 'Situação', 'Apresentado',\n",
       "       'Funding', 'Resumo', 'Anexo', 'Autores', 'Emails dos autores',\n",
       "       'Instituições dos autores', 'Apresentadores'],\n",
       "      dtype='object')"
      ]
     },
     "execution_count": 110,
     "metadata": {},
     "output_type": "execute_result"
    }
   ],
   "source": [
    "artsds.columns"
   ]
  },
  {
   "cell_type": "code",
   "execution_count": 111,
   "metadata": {},
   "outputs": [],
   "source": [
    "artsds=artsds.replace(\"Não respondido\", \" \")"
   ]
  },
  {
   "cell_type": "code",
   "execution_count": 112,
   "metadata": {},
   "outputs": [
    {
     "data": {
      "text/plain": [
       "Número\n",
       "293609                                                     \n",
       "294413                                                     \n",
       "294641                                                     \n",
       "296059                                                     \n",
       "296609                                                     \n",
       "                                ...                        \n",
       "305749    Intituto do Câncer Infantil Instituto do Cânce...\n",
       "305812                                                CAPES\n",
       "307886                                           capes,cnpq\n",
       "307927                              CAPES; FAPESPA; FAPEMIG\n",
       "307952                                                CAPES\n",
       "Name: Funding, Length: 82, dtype: object"
      ]
     },
     "execution_count": 112,
     "metadata": {},
     "output_type": "execute_result"
    }
   ],
   "source": [
    "artsds[\"Funding\"]"
   ]
  },
  {
   "cell_type": "code",
   "execution_count": null,
   "metadata": {},
   "outputs": [],
   "source": []
  },
  {
   "cell_type": "code",
   "execution_count": 113,
   "metadata": {},
   "outputs": [],
   "source": [
    "def convertInst(inststring):\n",
    "    lisinst=inststring.split(\",\")\n",
    "    lisinst2=(set([inst for inst in lisinst if inst.strip() != 'Não Respondeu']))\n",
    "    output=\"\"\n",
    "    for inst in lisinst2:\n",
    "        output=output+ inst.strip()+\", \"\n",
    "    return output[:-2]"
   ]
  },
  {
   "cell_type": "code",
   "execution_count": 114,
   "metadata": {},
   "outputs": [],
   "source": [
    "artsds['Instituições dos autores']=[convertInst(listinst) for listinst  in artsds['Instituições dos autores']]\n",
    "    "
   ]
  },
  {
   "cell_type": "code",
   "execution_count": null,
   "metadata": {},
   "outputs": [],
   "source": []
  },
  {
   "cell_type": "markdown",
   "metadata": {},
   "source": [
    "## Separação em Grupos"
   ]
  },
  {
   "cell_type": "code",
   "execution_count": null,
   "metadata": {},
   "outputs": [],
   "source": []
  },
  {
   "cell_type": "code",
   "execution_count": 115,
   "metadata": {
    "ExecuteTime": {
     "end_time": "2017-10-15T13:04:26.123242Z",
     "start_time": "2017-10-15T13:04:26.026451Z"
    }
   },
   "outputs": [],
   "source": [
    "artsdsgrouped=artsds.groupby([\"Modalidade\"],axis=0)\n",
    "artsdsposter=artsdsgrouped.get_group('Poster')\n",
    "artsdsHT=artsdsgrouped.get_group('HighLight Tracks')\n",
    "artsdsDT=artsdsgrouped.get_group('Thesis and Dissertation Award')\n"
   ]
  },
  {
   "cell_type": "code",
   "execution_count": 116,
   "metadata": {},
   "outputs": [
    {
     "data": {
      "text/plain": [
       "Index(['Título', 'Modalidade', 'Área temática', 'Situação', 'Apresentado',\n",
       "       'Funding', 'Resumo', 'Anexo', 'Autores', 'Emails dos autores',\n",
       "       'Instituições dos autores', 'Apresentadores'],\n",
       "      dtype='object')"
      ]
     },
     "execution_count": 116,
     "metadata": {},
     "output_type": "execute_result"
    }
   ],
   "source": [
    "artsds.iloc[0].index"
   ]
  },
  {
   "cell_type": "code",
   "execution_count": 117,
   "metadata": {},
   "outputs": [
    {
     "data": {
      "text/plain": [
       "'\\n  \\\\documentclass[twoside]{{article}}\\n  \\\\usepackage[affil-it]{{authblk}}\\n  \\\\usepackage{{lipsum}} % Package to generate dummy text throughout this template\\n  \\\\usepackage{{eurosym}}\\n  \\\\usepackage[sc]{{mathpazo}} % Use the Palatino font\\n  \\\\usepackage[T1]{{fontenc}} % Use 8-bit encoding that has 256 glyphs\\n  \\\\usepackage[utf8]{{inputenc}}\\n  \\\\linespread{{1.05}} % Line spacing-Palatino needs more space between lines\\n  \\\\usepackage{{microtype}} % Slightly tweak font spacing for aesthetics\\\\[IndentingNewLine]\\n  \\\\usepackage[hmarginratio=1:1,top=32mm,columnsep=20pt]{{geometry}} % Document margins\\n  \\\\usepackage{{multicol}} % Used for the two-column layout of the document\\n  \\\\usepackage[hang,small,labelfont=bf,up,textfont=it,up]{{caption}} % Custom captions under//above floats in tables or figures\\n  \\\\usepackage{{booktabs}} % Horizontal rules in tables\\n  \\\\usepackage{{float}} % Required for tables and figures in the multi-column environment-they need to be placed in specific locations with the[H] (e.g. \\\\begin{{table}}[H])\\n  \\\\usepackage{{hyperref}} % For hyperlinks in the PDF\\n  \\\\usepackage{{lettrine}} % The lettrine is the first enlarged letter at the beginning of the text\\n  \\\\usepackage{{paralist}} % Used for the compactitem environment which makes bullet points with less space between them\\n  \\\\usepackage{{abstract}} % Allows abstract customization\\n  \\\\renewcommand{{\\\\abstractnamefont}}{{\\\\normalfont\\\\bfseries}} \\n  %\\\\renewcommand{{\\\\abstracttextfont}}{{\\\\normalfont\\\\small\\\\itshape}} % Set the abstract itself to small italic text\\\\[IndentingNewLine]\\n  \\\\usepackage{{titlesec}} % Allows customization of titles\\n  \\\\renewcommand\\\\thesection{{\\\\Roman{{section}}}} % Roman numerals for the sections\\n  \\\\renewcommand\\\\thesubsection{{\\\\Roman{{subsection}}}} % Roman numerals for subsections\\n  \\\\titleformat{{\\\\section}}[block]{{\\\\large\\\\scshape\\\\centering}}{{\\\\thesection.}}{{1em}}{{}} % Change the look of the section titles\\n  \\\\titleformat{{\\\\subsection}}[block]{{\\\\large}}{{\\\\thesubsection.}}{{1em}}{{}} % Change the look of the section titles\\n  \\\\usepackage{{fancyhdr}} % Headers and footers\\n  \\\\pagestyle{{fancy}} % All pages have headers and footers\\n  \\\\fancyhead{{}} % Blank out the default header\\n  \\\\fancyfoot{{}} % Blank out the default footer\\n  \\\\fancyhead[C]{{X-meeting eXperience $\\\\bullet$ November 2020 }} % Custom header text\\n  \\\\fancyfoot[RO,LE]{{}} % Custom footer text\\n  %----------------------------------------------------------------------------------------\\n  % TITLE SECTION\\n  %---------------------------------------------------------------------------------------- \\n \\n \\\\title{{\\\\vspace{{-15mm}}\\\\fontsize{{24pt}}{{10pt}}\\\\selectfont\\\\textbf{{ {} }}}} % Article title\\n  \\n  \\n  \\\\author{{ {} }}\\n  \\n  \\\\affil{{ {} }}\\n  \\\\vspace{{-5mm}}\\n  \\\\date{{}}\\n  \\n  %---------------------------------------------------------------------------------------- \\n  \\n  \\\\begin{{document}}\\n  \\n  \\n  \\\\maketitle % Insert title\\n  \\n  \\n  \\\\thispagestyle{{fancy}} % All pages have headers and footers\\n  %----------------------------------------------------------------------------------------  \\n  % ABSTRACT\\n  \\n  %----------------------------------------------------------------------------------------  \\n  \\\\href{{{}}}{{Link to Video}}\\n  \\\\end{{document}} '"
      ]
     },
     "execution_count": 117,
     "metadata": {},
     "output_type": "execute_result"
    }
   ],
   "source": [
    "strlatex1"
   ]
  },
  {
   "cell_type": "markdown",
   "metadata": {},
   "source": [
    "## Gera os arquivos com os abstracts"
   ]
  },
  {
   "cell_type": "code",
   "execution_count": 118,
   "metadata": {
    "ExecuteTime": {
     "end_time": "2017-10-15T01:22:06.889768Z",
     "start_time": "2017-10-15T01:22:06.691345Z"
    },
    "run_control": {
     "frozen": false,
     "read_only": false
    }
   },
   "outputs": [
    {
     "name": "stdout",
     "output_type": "stream",
     "text": [
      "293609\n",
      "294413\n",
      "294641\n",
      "296059\n",
      "296609\n",
      "296745\n",
      "297551\n",
      "297651\n",
      "297674\n",
      "297709\n",
      "297728\n",
      "297927\n",
      "297956\n",
      "297986\n",
      "297987\n",
      "297990\n",
      "298052\n",
      "298059\n",
      "298061\n",
      "298089\n",
      "298111\n",
      "298120\n",
      "298211\n",
      "298253\n",
      "299287\n",
      "299684\n",
      "300190\n",
      "300241\n",
      "300276\n",
      "300289\n",
      "300303\n",
      "300776\n",
      "300869\n",
      "301064\n",
      "301377\n",
      "301462\n",
      "301463\n",
      "302624\n",
      "302700\n",
      "302883\n",
      "302913\n",
      "302914\n",
      "302928\n",
      "303012\n",
      "303033\n",
      "303040\n",
      "303067\n",
      "303080\n",
      "303082\n",
      "303086\n",
      "303096\n",
      "303098\n",
      "303108\n",
      "303112\n",
      "303133\n",
      "303163\n",
      "303167\n",
      "303169\n",
      "303178\n",
      "303186\n",
      "303199\n",
      "303221\n",
      "303228\n",
      "303260\n",
      "303431\n",
      "303479\n",
      "304798\n",
      "304948\n",
      "304988\n",
      "305268\n",
      "305282\n",
      "305292\n",
      "305296\n",
      "305366\n",
      "305422\n",
      "305446\n",
      "305587\n",
      "305749\n",
      "305812\n",
      "307886\n",
      "307927\n",
      "307952\n"
     ]
    }
   ],
   "source": [
    "for index, record in artsds.iterrows():\n",
    "    #print(record[\"Autores\"])\n",
    "    author=fixbin(record[\"Autores\"],replacements)\n",
    "    title=fixbin(record[\"Título\"],replacements)\n",
    "    urlvideo=\"http://ab3c.org.br/xpress_pres2020/xmxp2020-\"+str(index)+\".html\"\n",
    "    if record[\"Instituições dos autores\"]!=record[\"Instituições dos autores\"]:\n",
    "        afiliation=\"\"\n",
    "    else:\n",
    "        afiliation=fixbin(record[\"Instituições dos autores\"],replacements)\n",
    "    print(index)\n",
    "    if record[\"Modalidade\"]==\"Poster\":\n",
    "        abstract=fixbin(record[\"Resumo\"],replacements)\n",
    "    else:\n",
    "        abstract=\"\"\n",
    "    if record[\"Funding\"]!=record[\"Funding\"]:\n",
    "        funding=\"\"\n",
    "    else:\n",
    "        funding=fixbin(record[\"Funding\"],replacements)\n",
    "    if record[\"Modalidade\"]==\"Poster\":\n",
    "        stringfileresumo=strlatex.format(title,author,afiliation,abstract,funding,urlvideo)\n",
    "    else:\n",
    "        stringfileresumo=strlatex1.format(title,author,afiliation,urlvideo)\n",
    "    f = open('papers/art'+str(index)+\".tex\", 'w')\n",
    "    f.write(stringfileresumo)\n",
    "    f.close()"
   ]
  },
  {
   "cell_type": "code",
   "execution_count": 119,
   "metadata": {},
   "outputs": [
    {
     "name": "stdout",
     "output_type": "stream",
     "text": [
      "/home/lemke/AB3C/procxmeeting2020\n"
     ]
    }
   ],
   "source": [
    "!pwd"
   ]
  },
  {
   "cell_type": "markdown",
   "metadata": {},
   "source": [
    "## Gera os arquivos com os índices "
   ]
  },
  {
   "cell_type": "code",
   "execution_count": 120,
   "metadata": {
    "ExecuteTime": {
     "end_time": "2017-10-16T00:47:01.203914Z",
     "start_time": "2017-10-16T00:47:01.135511Z"
    }
   },
   "outputs": [
    {
     "name": "stdout",
     "output_type": "stream",
     "text": [
      "Database and Software Development\n",
      "Education and Outreach\n",
      "Genes and Genomics\n",
      "Phylogeny and Evolution\n",
      "Proteins and Proteomics\n",
      "RNA and Transcriptomics\n",
      "Systems Biology and Networks\n"
     ]
    }
   ],
   "source": [
    "areas = sorted(list(set(artsdsposter[\"Área temática\"])))\n",
    "groupareas=artsdsposter.groupby([\"Área temática\"],axis=0)\n",
    "compstr = \"\";\n",
    "for area in areas:\n",
    "    print(area)\n",
    "    ds=groupareas.get_group(area)\n",
    "#    ds=ds.sort_values(\"Poster Code\")\n",
    "    sessionstr = \"\\\\chapter{\" + area + \"}\\n\";\n",
    "    for index, record in ds.iterrows():\n",
    "        title=fixbin(record[\"Título\"],replacements)\n",
    "        author=record[\"Autores\"]\n",
    "        file=\"art\"+str(index)\n",
    "        indexstr=\",\".join([\"\\\\index{\"+brnames(aut)+\"}\" for aut in record[\"Autores\"].split(\",\")])\n",
    "        sessionstr=sessionstr+strlatex2.format(title,author,indexstr,file)\n",
    "    compstr = compstr + sessionstr\n",
    "f = open('posters.tex', 'w')\n",
    "f.write(compstr)\n",
    "f.close()"
   ]
  },
  {
   "cell_type": "code",
   "execution_count": 121,
   "metadata": {
    "ExecuteTime": {
     "end_time": "2017-10-15T17:05:59.808034Z",
     "start_time": "2017-10-15T17:05:59.787370Z"
    }
   },
   "outputs": [
    {
     "name": "stdout",
     "output_type": "stream",
     "text": [
      "297551\n",
      "303112\n",
      "303163\n"
     ]
    }
   ],
   "source": [
    "compstr = \"\";\n",
    "ds=artsdsHT\n",
    "sessionstr=\"\"\n",
    "#ds=ds.sort_values(\"Poster Code\")\n",
    "for index, record in ds.iterrows():\n",
    "    print(index)\n",
    "    title=fixbin(record[\"Título\"],replacements)\n",
    "    author=record[\"Autores\"]\n",
    "    file=\"art\"+str(index)\n",
    "    indexstr=\",\".join([\"\\\\index{\"+brnames(aut)+\"}\" for aut in record[\"Autores\"].split(\",\")])\n",
    "    sessionstr=sessionstr+strlatex2.format(title,author,indexstr,file)\n",
    "compstr = compstr + sessionstr\n",
    "f = open('papers.tex', 'w')\n",
    "f.write(compstr)\n",
    "f.close()"
   ]
  },
  {
   "cell_type": "code",
   "execution_count": 122,
   "metadata": {},
   "outputs": [
    {
     "name": "stdout",
     "output_type": "stream",
     "text": [
      "293609\n",
      "299684\n",
      "302624\n",
      "303080\n",
      "303221\n",
      "303260\n"
     ]
    }
   ],
   "source": [
    "compstr = \"\";\n",
    "ds=artsdsDT\n",
    "sessionstr=\"\"\n",
    "#ds=ds.sort_values(\"Poster Code\")\n",
    "for index, record in ds.iterrows():\n",
    "    print(index)\n",
    "    title=fixbin(record[\"Título\"],replacements)\n",
    "    author=record[\"Autores\"]\n",
    "    file=\"art\"+str(index)\n",
    "    indexstr=\",\".join([\"\\\\index{\"+brnames(aut)+\"}\" for aut in record[\"Autores\"].split(\",\")])\n",
    "    sessionstr=sessionstr+strlatex2.format(title,author,indexstr,file)\n",
    "compstr = compstr + sessionstr\n",
    "f = open('teses.tex', 'w')\n",
    "f.write(compstr)\n",
    "f.close()"
   ]
  },
  {
   "cell_type": "markdown",
   "metadata": {},
   "source": [
    "## Gerar os Proceedings"
   ]
  },
  {
   "cell_type": "code",
   "execution_count": 123,
   "metadata": {},
   "outputs": [],
   "source": [
    "import os\n"
   ]
  },
  {
   "cell_type": "code",
   "execution_count": 124,
   "metadata": {},
   "outputs": [
    {
     "data": {
      "text/plain": [
       "0"
      ]
     },
     "execution_count": 124,
     "metadata": {},
     "output_type": "execute_result"
    }
   ],
   "source": [
    "os.system(\"cd papers; for i in *.tex; do pdflatex $i; done; cd ..\")"
   ]
  },
  {
   "cell_type": "code",
   "execution_count": 125,
   "metadata": {},
   "outputs": [
    {
     "data": {
      "text/plain": [
       "0"
      ]
     },
     "execution_count": 125,
     "metadata": {},
     "output_type": "execute_result"
    }
   ],
   "source": [
    "os.system(\"./compila.bash\")"
   ]
  },
  {
   "cell_type": "code",
   "execution_count": null,
   "metadata": {},
   "outputs": [],
   "source": []
  },
  {
   "cell_type": "code",
   "execution_count": null,
   "metadata": {},
   "outputs": [],
   "source": []
  }
 ],
 "metadata": {
  "kernelspec": {
   "display_name": "Python 3",
   "language": "python",
   "name": "python3"
  },
  "language_info": {
   "codemirror_mode": {
    "name": "ipython",
    "version": 3
   },
   "file_extension": ".py",
   "mimetype": "text/x-python",
   "name": "python",
   "nbconvert_exporter": "python",
   "pygments_lexer": "ipython3",
   "version": "3.8.5"
  },
  "latex_envs": {
   "bibliofile": "biblio.bib",
   "cite_by": "apalike",
   "current_citInitial": 1,
   "eqLabelWithNumbers": true,
   "eqNumInitial": 0
  }
 },
 "nbformat": 4,
 "nbformat_minor": 4
}
