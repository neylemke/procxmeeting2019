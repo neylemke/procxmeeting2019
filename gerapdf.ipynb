{
 "cells": [
  {
   "cell_type": "markdown",
   "metadata": {
    "run_control": {
     "frozen": false,
     "read_only": false
    }
   },
   "source": [
    "# Gera pdfs"
   ]
  },
  {
   "cell_type": "markdown",
   "metadata": {
    "run_control": {
     "frozen": false,
     "read_only": false
    }
   },
   "source": [
    "## Carrega Pacotes"
   ]
  },
  {
   "cell_type": "code",
   "execution_count": 4,
   "metadata": {},
   "outputs": [
    {
     "name": "stdout",
     "output_type": "stream",
     "text": [
      "Collecting pandas\n",
      "\u001b[?25l  Downloading https://files.pythonhosted.org/packages/39/90/c2cac34acd673ceddf5beaa1a8375dc32e0c2399fa09363917148adeefdb/pandas-0.25.2-cp37-cp37m-macosx_10_9_x86_64.whl (10.2MB)\n",
      "\u001b[K     |████████████████████████████████| 10.2MB 6.8MB/s eta 0:00:01\n",
      "\u001b[?25hCollecting numpy>=1.13.3 (from pandas)\n",
      "\u001b[?25l  Downloading https://files.pythonhosted.org/packages/ea/f4/acaa005b20777fc56a1dc0cae228ab2cb5a7f09a7e7fcb6d4619ce24a1b7/numpy-1.17.3-cp37-cp37m-macosx_10_9_x86_64.whl (15.1MB)\n",
      "\u001b[K     |████████████████████████████████| 15.1MB 29.0MB/s eta 0:00:01\n",
      "\u001b[?25hCollecting pytz>=2017.2 (from pandas)\n",
      "\u001b[?25l  Downloading https://files.pythonhosted.org/packages/e7/f9/f0b53f88060247251bf481fa6ea62cd0d25bf1b11a87888e53ce5b7c8ad2/pytz-2019.3-py2.py3-none-any.whl (509kB)\n",
      "\u001b[K     |████████████████████████████████| 512kB 29.1MB/s eta 0:00:01\n",
      "\u001b[?25hRequirement already satisfied: python-dateutil>=2.6.1 in /usr/local/lib/python3.7/site-packages (from pandas) (2.8.0)\n",
      "Requirement already satisfied: six>=1.5 in /usr/local/lib/python3.7/site-packages (from python-dateutil>=2.6.1->pandas) (1.12.0)\n",
      "Installing collected packages: numpy, pytz, pandas\n",
      "Successfully installed numpy-1.17.3 pandas-0.25.2 pytz-2019.3\n"
     ]
    }
   ],
   "source": [
    "# Install a conda package in the current Jupyter kernel\n",
    "# Install a pip package in the current Jupyter kernel\n",
    "import sys\n",
    "!{sys.executable} -m pip install pandas"
   ]
  },
  {
   "cell_type": "code",
   "execution_count": 5,
   "metadata": {
    "ExecuteTime": {
     "end_time": "2017-10-14T23:21:51.265526Z",
     "start_time": "2017-10-14T23:21:50.460962Z"
    },
    "run_control": {
     "frozen": false,
     "read_only": false
    }
   },
   "outputs": [],
   "source": [
    "import pandas as pd\n",
    "import re\n",
    "from titlecase import titlecase"
   ]
  },
  {
   "cell_type": "markdown",
   "metadata": {
    "run_control": {
     "frozen": false,
     "read_only": false
    }
   },
   "source": [
    "## Define Constantes"
   ]
  },
  {
   "cell_type": "code",
   "execution_count": 45,
   "metadata": {
    "ExecuteTime": {
     "end_time": "2017-10-15T17:05:54.278104Z",
     "start_time": "2017-10-15T17:05:54.247738Z"
    },
    "run_control": {
     "frozen": false,
     "read_only": false
    }
   },
   "outputs": [],
   "source": [
    "\n",
    "strlatex = \"\"\"\n",
    "  \\\\documentclass[twoside]{{article}}\n",
    "  \\\\usepackage[affil-it]{{authblk}}\n",
    "  \\\\usepackage{{lipsum}} % Package to generate dummy text throughout \\\n",
    "this template\n",
    "  \\\\usepackage{{eurosym}}\n",
    "  \\\\usepackage[sc]{{mathpazo}} % Use the Palatino font\n",
    "  \\\\usepackage[T1]{{fontenc}} % Use 8-bit encoding that has 256 glyphs\n",
    "  \\\\usepackage[utf8]{{inputenc}}\n",
    "  \\\\linespread{{1.05}} % Line spacing-Palatino needs more space between \\\n",
    "lines\n",
    "  \\\\usepackage{{microtype}} % Slightly tweak font spacing for \\\n",
    "aesthetics\\[IndentingNewLine]\n",
    "  \\\\usepackage[hmarginratio=1:1,top=32mm,columnsep=20pt]{{geometry}} % \\\n",
    "Document margins\n",
    "  \\\\usepackage{{multicol}} % Used for the two-column layout of the \\\n",
    "document\n",
    "  \\\\usepackage[hang,small,labelfont=bf,up,textfont=it,up]{{caption}} % \\\n",
    "Custom captions under//above floats in tables or figures\n",
    "  \\\\usepackage{{booktabs}} % Horizontal rules in tables\n",
    "  \\\\usepackage{{float}} % Required for tables and figures in the \\\n",
    "multi-column environment-they need to be placed in specific locations \\\n",
    "with the[H] (e.g. \\\\begin{{table}}[H])\n",
    "  \\\\usepackage{{hyperref}} % For hyperlinks in the PDF\n",
    "  \\\\usepackage{{lettrine}} % The lettrine is the first enlarged letter \\\n",
    "at the beginning of the text\n",
    "  \\\\usepackage{{paralist}} % Used for the compactitem environment which \\\n",
    "makes bullet points with less space between them\n",
    "  \\\\usepackage{{abstract}} % Allows abstract customization\n",
    "  \\\\renewcommand{{\\\\abstractnamefont}}{{\\\\normalfont\\\\bfseries}} \n",
    "  %\\\\renewcommand{{\\\\abstracttextfont}}{{\\\\normalfont\\\\small\\\\itshape}} % \\\n",
    "Set the abstract itself to small italic text\\[IndentingNewLine]\n",
    "  \\\\usepackage{{titlesec}} % Allows customization of titles\n",
    "  \\\\renewcommand\\\\thesection{{\\\\Roman{{section}}}} % Roman numerals for \\\n",
    "the sections\n",
    "  \\\\renewcommand\\\\thesubsection{{\\\\Roman{{subsection}}}} % Roman numerals \\\n",
    "for subsections\n",
    "  \\\\titleformat{{\\\\section}}[block]{{\\\\large\\\\scshape\\\\centering}}{{\\\\\\\n",
    "thesection.}}{{1em}}{{}} % Change the look of the section titles\n",
    "  \\\\titleformat{{\\\\subsection}}[block]{{\\\\large}}{{\\\\thesubsection.}}{{1em}}{{}}\\\n",
    " % Change the look of the section titles\n",
    "  \\\\usepackage{{fancyhdr}} % Headers and footers\n",
    "  \\\\pagestyle{{fancy}} % All pages have headers and footers\n",
    "  \\\\fancyhead{{}} % Blank out the default header\n",
    "  \\\\fancyfoot{{}} % Blank out the default footer\n",
    "  \\\\fancyhead[C]{{X-meeting $\\\\bullet$ October 2019 $\\\\bullet$ Campos do  \\\n",
    "Jord\\\\~ao}} % Custom header text\n",
    "  \\\\fancyfoot[RO,LE]{{}} % Custom footer text\n",
    "  %----------------------------------------------------------------------------------------\n",
    "\\\n",
    "  % TITLE SECTION\n",
    "  %\\\n",
    "----------------------------------------------------------------------------------------\\\n",
    " \n",
    " \n",
    " \\\\title{{\\\\vspace{{-15mm}}\\\\fontsize{{24pt}}{{10pt}}\\\\selectfont\\\\textbf{{ {} }}}} % Article title\n",
    "  \n",
    "  \n",
    "  \\\\author{{ {} }}\n",
    "  \n",
    "  \\\\affil{{ {} }}\n",
    "  \\\\vspace{{-5mm}}\n",
    "  \\\\date{{}}\n",
    "  \n",
    "  %----------------------------------------------------------------------------------------\\\n",
    " \n",
    "  \n",
    "  \\\\begin{{document}}\n",
    "  \n",
    "  \n",
    "  \\\\maketitle % Insert title\n",
    "  \n",
    "  \n",
    "  \\\\thispagestyle{{fancy}} % All pages have headers and footers\\\n",
    "\n",
    "  %----------------------------------------------------------------------------------------\\\n",
    "  \n",
    "  % ABSTRACT\n",
    "  \n",
    "  %----------------------------------------------------------------------------------------\\\n",
    "  \n",
    "  \n",
    "  \\\\begin{{abstract}}\n",
    "  {}\n",
    "  \n",
    "  Funding: {} \\\\\\\\ \n",
    "  \\\\end{{abstract}}\n",
    "  \\\\end{{document}} \"\"\"\n",
    "\n",
    "strlatex1 = \"\"\"\n",
    "  \\\\documentclass[twoside]{{article}}\n",
    "  \\\\usepackage[affil-it]{{authblk}}\n",
    "  \\\\usepackage{{lipsum}} % Package to generate dummy text throughout \\\n",
    "this template\n",
    "  \\\\usepackage{{eurosym}}\n",
    "  \\\\usepackage[sc]{{mathpazo}} % Use the Palatino font\n",
    "  \\\\usepackage[T1]{{fontenc}} % Use 8-bit encoding that has 256 glyphs\n",
    "  \\\\usepackage[utf8]{{inputenc}}\n",
    "  \\\\linespread{{1.05}} % Line spacing-Palatino needs more space between \\\n",
    "lines\n",
    "  \\\\usepackage{{microtype}} % Slightly tweak font spacing for \\\n",
    "aesthetics\\[IndentingNewLine]\n",
    "  \\\\usepackage[hmarginratio=1:1,top=32mm,columnsep=20pt]{{geometry}} % \\\n",
    "Document margins\n",
    "  \\\\usepackage{{multicol}} % Used for the two-column layout of the \\\n",
    "document\n",
    "  \\\\usepackage[hang,small,labelfont=bf,up,textfont=it,up]{{caption}} % \\\n",
    "Custom captions under//above floats in tables or figures\n",
    "  \\\\usepackage{{booktabs}} % Horizontal rules in tables\n",
    "  \\\\usepackage{{float}} % Required for tables and figures in the \\\n",
    "multi-column environment-they need to be placed in specific locations \\\n",
    "with the[H] (e.g. \\\\begin{{table}}[H])\n",
    "  \\\\usepackage{{hyperref}} % For hyperlinks in the PDF\n",
    "  \\\\usepackage{{lettrine}} % The lettrine is the first enlarged letter \\\n",
    "at the beginning of the text\n",
    "  \\\\usepackage{{paralist}} % Used for the compactitem environment which \\\n",
    "makes bullet points with less space between them\n",
    "  \\\\usepackage{{abstract}} % Allows abstract customization\n",
    "  \\\\renewcommand{{\\\\abstractnamefont}}{{\\\\normalfont\\\\bfseries}} \n",
    "  %\\\\renewcommand{{\\\\abstracttextfont}}{{\\\\normalfont\\\\small\\\\itshape}} % \\\n",
    "Set the abstract itself to small italic text\\[IndentingNewLine]\n",
    "  \\\\usepackage{{titlesec}} % Allows customization of titles\n",
    "  \\\\renewcommand\\\\thesection{{\\\\Roman{{section}}}} % Roman numerals for \\\n",
    "the sections\n",
    "  \\\\renewcommand\\\\thesubsection{{\\\\Roman{{subsection}}}} % Roman numerals \\\n",
    "for subsections\n",
    "  \\\\titleformat{{\\\\section}}[block]{{\\\\large\\\\scshape\\\\centering}}{{\\\\\\\n",
    "thesection.}}{{1em}}{{}} % Change the look of the section titles\n",
    "  \\\\titleformat{{\\\\subsection}}[block]{{\\\\large}}{{\\\\thesubsection.}}{{1em}}{{}}\\\n",
    " % Change the look of the section titles\n",
    "  \\\\usepackage{{fancyhdr}} % Headers and footers\n",
    "  \\\\pagestyle{{fancy}} % All pages have headers and footers\n",
    "  \\\\fancyhead{{}} % Blank out the default header\n",
    "  \\\\fancyfoot{{}} % Blank out the default footer\n",
    "  \\\\fancyhead[C]{{X-meeting $\\\\bullet$ October 2019 $\\\\bullet$ Campos do  \\\n",
    "Jord\\\\~ao}} % Custom header text\n",
    "  \\\\fancyfoot[RO,LE]{{}} % Custom footer text\n",
    "  %----------------------------------------------------------------------------------------\n",
    "\\\n",
    "  % TITLE SECTION\n",
    "  %\\\n",
    "----------------------------------------------------------------------------------------\\\n",
    " \n",
    " \n",
    " \\\\title{{\\\\vspace{{-15mm}}\\\\fontsize{{24pt}}{{10pt}}\\\\selectfont\\\\textbf{{ {} }}}} % Article title\n",
    "  \n",
    "  \n",
    "  \\\\author{{ {} }}\n",
    "  \n",
    "  \\\\affil{{ {} }}\n",
    "  \\\\vspace{{-5mm}}\n",
    "  \\\\date{{}}\n",
    "  \n",
    "  %----------------------------------------------------------------------------------------\\\n",
    " \n",
    "  \n",
    "  \\\\begin{{document}}\n",
    "  \n",
    "  \n",
    "  \\\\maketitle % Insert title\n",
    "  \n",
    "  \n",
    "  \\\\thispagestyle{{fancy}} % All pages have headers and footers\\\n",
    "\n",
    "  %----------------------------------------------------------------------------------------\\\n",
    "  \n",
    "  % ABSTRACT\n",
    "  \n",
    "  %----------------------------------------------------------------------------------------\\\n",
    "  \n",
    "  \n",
    "  \\\\end{{document}} \"\"\"\n",
    "\n",
    "\n",
    "strlatex2 = \"\"\"\\\\procpaper[switch=45,\n",
    "    title={{{}}}, \n",
    "    author={{{}}}, \n",
    "    index={{{{{}}}}}]\n",
    "    {{{}}} \\n\\n \"\"\"\n",
    "\n",
    "replacements={\"Î¦\" : \"$\\\\Phi$ \", \"\\'\" : \"'\", \"ﬁ\" : \"fi\", \"á\" : \"\\\\'a\",\n",
    " \"\\[Gamma]\" : \"$\\\\gamma$\", \"ï\\[Not]<81>\" : \"fi\",\n",
    " \"\\[RightArrow]\" : \"$\\\\rightarrow$\", \" Î\\.b3\" : \"$ \\\\gamma$\",\n",
    " \" â<86><92> â<88><9e>\" : \" $\\\\rightarrow$\", \"â<80>\\.b2\" : \"'\",\n",
    " \"Â\\[PlusMinus]\" : \"$\\\\pm$\", \"â<89>¤\" : \"$\\\\leq$\",\n",
    " \"Â\\[Degree]\" :  \"$^o$\", \"\\Âº\" : \"$^o$\", \" \\â<84>¢ CL\" : \" \",\n",
    " \"Â\\.b4\" : \"'\", \"â<89>¥\" : \"$\\\\leq$\", \"â<80><8b>â\" : \" \", \"¹\" : \"1\",\n",
    " \"â\" : \"\\\\^a\", \"\\[OpenCurlyDoubleQuote]\" : \"``\",\n",
    " \"\\[CloseCurlyDoubleQuote]\" : \"''\", \"ã\" : \"\\\\~a\", \"á\" : \"\\\\'a\",\n",
    " \"ê\" : \"\\\\^e\", \"é\" : \"\\\\'e\", \"õ\" : \"\\\\~o\", \"ó\" : \"\\\\'o\",\n",
    " \"ô\" : \"\\\\^o\", \"ú\" : \"\\\\'u\", \"ç\" : \"\\\\c{c}\", \"í\" : \"\\\\'{\\\\i}\",\n",
    " \"Ã\" : \"\\\\~A\", \"Á\" : \"\\\\'A\", \"Ê\" : \"\\\\^E\", \"É\" : \"\\\\'E\",\n",
    " \"Õ\" : \"\\\\~O\", \"Ó\" : \"\\\\'O\", \"Ô\" : \"\\\\^O\", \"Ú\" : \"\\\\'U\",\n",
    " \"Ç\" : \"\\\\c{C}\", \"Í\" : \"\\\\'I\", \"Å\" : \"$\\\\AA$\", \"ß\" : \"$\\\\beta$\",\n",
    " \"\\[CloseCurlyQuote]\" : \"'\", \"\\[OpenCurlyQuote]\" : \"'\", \"%\" : \"\\\\%\",\n",
    "  \"ß\" : \"$\\\\beta$\",  \"_\" : \"\\\\_\",         \n",
    "              \"±\":\"$\\pm$\",\n",
    "              \"´\":\"\", \"µ\":\"$\\mu$\",\n",
    "              \",\":\", \",\n",
    "              \"&\":\"\\&\",\n",
    " \"ö\" : \"\\\\\\\"o\", \"ü\" : \"\\\\\\\"u\",\n",
    " \"à\" : \"\\\\`a\", \"À\" : \"\\\\`A\", \"€\": \"\\\\euro\",\n",
    " \"®\" : \"\\\\textsuperscript{\\\\textcopyright}\", \"¾\" : \"3/4\",\n",
    " \"ñ\" : \"\\\\~n\", \"ï\" : \"\\\\\\\"{\\\\i}\", \"I'\" : \"\\\\'I\", \"#\" : \"\\\\#\",\n",
    " \"i\\.b4\" : \"\\\\'{\\\\i}\",\n",
    " \" \" : \" \",  \"°\" : \"$^o$\"}\n",
    "prefix=\"\""
   ]
  },
  {
   "cell_type": "markdown",
   "metadata": {
    "run_control": {
     "frozen": false,
     "read_only": false
    }
   },
   "source": [
    "## Funções Gerais"
   ]
  },
  {
   "cell_type": "code",
   "execution_count": 7,
   "metadata": {
    "ExecuteTime": {
     "end_time": "2017-10-14T23:21:53.242578Z",
     "start_time": "2017-10-14T23:21:53.232501Z"
    },
    "run_control": {
     "frozen": false,
     "read_only": false
    }
   },
   "outputs": [],
   "source": [
    "def namecase(str):\n",
    "    \"\"\"Converte Strings para Capitalização Brasileira\"\"\"\n",
    "    lissubs=[(\" De \",\" de \"),(\" Do \",\" do \"), (\" Da \", \" da \"), (\" Das \", \" das \"),\n",
    "             (\" Dos \",\" dos \")]\n",
    "    str2=titlecase(str)\n",
    "    for subs in lissubs:\n",
    "        str2=str2.replace(subs[0],subs[1])\n",
    "    return str2\n",
    "\n"
   ]
  },
  {
   "cell_type": "code",
   "execution_count": 8,
   "metadata": {
    "ExecuteTime": {
     "end_time": "2017-10-14T23:21:53.967172Z",
     "start_time": "2017-10-14T23:21:53.960119Z"
    },
    "run_control": {
     "frozen": false,
     "read_only": false
    }
   },
   "outputs": [],
   "source": [
    "def brnames(str):\n",
    "    \"\"\"Gera Nomes para a regra ABNT\"\"\"\n",
    "    lis=str.split(\" \")\n",
    "    str2=lis[-1]+ \", \"\n",
    "    for word in lis[0:-1]:\n",
    "        str2=str2+\" \"+word\n",
    "    return str2"
   ]
  },
  {
   "cell_type": "code",
   "execution_count": 9,
   "metadata": {
    "ExecuteTime": {
     "end_time": "2017-10-14T23:21:54.656750Z",
     "start_time": "2017-10-14T23:21:54.648899Z"
    },
    "run_control": {
     "frozen": false,
     "read_only": false
    }
   },
   "outputs": [],
   "source": [
    "def orderedunion(lis):\n",
    "    \"\"\"Elimina Repetições e mantém a ordem\"\"\"\n",
    "    lis2=[]\n",
    "    for elem in lis:\n",
    "        if not (elem in lis2):\n",
    "            lis2.append(elem)\n",
    "    return lis2"
   ]
  },
  {
   "cell_type": "code",
   "execution_count": 10,
   "metadata": {
    "ExecuteTime": {
     "end_time": "2017-10-15T01:21:52.423139Z",
     "start_time": "2017-10-15T01:21:52.380890Z"
    }
   },
   "outputs": [],
   "source": [
    "\n",
    "\n",
    "def fixbin(string,replacements):\n",
    "    for k, v in replacements.items():\n",
    "        string=string.replace(k, v)\n",
    "    return string"
   ]
  },
  {
   "cell_type": "markdown",
   "metadata": {
    "run_control": {
     "frozen": false,
     "read_only": false
    }
   },
   "source": [
    "## Funções Específicas\n"
   ]
  },
  {
   "cell_type": "code",
   "execution_count": 11,
   "metadata": {
    "ExecuteTime": {
     "end_time": "2017-10-15T01:21:55.435750Z",
     "start_time": "2017-10-15T01:21:55.427551Z"
    },
    "run_control": {
     "frozen": false,
     "read_only": false
    }
   },
   "outputs": [],
   "source": [
    "def geraAuthors(str):\n",
    "    \"\"\"Gera uma Lista de Autores\"\"\"\n",
    "    m = re.findall('[^(),]+\\([^()]+[^()]+\\)', str)\n",
    "    return [namecase(word.split(\"(\")[0].strip()) for word in m]\n",
    "\n",
    "def geraAfil(str):\n",
    "    \"\"\"Gera uma lista de Afiliações\"\"\"\n",
    "    m = re.findall('\\([^()]+[^()]+\\)', str)\n",
    "    return [inst[1:-1] for inst in m]"
   ]
  },
  {
   "cell_type": "code",
   "execution_count": 12,
   "metadata": {},
   "outputs": [
    {
     "ename": "NameError",
     "evalue": "name 'artsds' is not defined",
     "output_type": "error",
     "traceback": [
      "\u001b[0;31m---------------------------------------------------------------------------\u001b[0m",
      "\u001b[0;31mNameError\u001b[0m                                 Traceback (most recent call last)",
      "\u001b[0;32m<ipython-input-12-12b191cd080c>\u001b[0m in \u001b[0;36m<module>\u001b[0;34m\u001b[0m\n\u001b[0;32m----> 1\u001b[0;31m \u001b[0martsds\u001b[0m\u001b[0;34m[\u001b[0m\u001b[0;34m\"Autores\"\u001b[0m\u001b[0;34m]\u001b[0m\u001b[0;34m\u001b[0m\u001b[0;34m\u001b[0m\u001b[0m\n\u001b[0m",
      "\u001b[0;31mNameError\u001b[0m: name 'artsds' is not defined"
     ]
    }
   ],
   "source": [
    "artsds[\"Autores\"]"
   ]
  },
  {
   "cell_type": "code",
   "execution_count": 13,
   "metadata": {
    "ExecuteTime": {
     "end_time": "2017-10-15T01:21:56.042119Z",
     "start_time": "2017-10-15T01:21:56.024340Z"
    },
    "run_control": {
     "frozen": false,
     "read_only": false
    }
   },
   "outputs": [],
   "source": [
    "def geraStringAfilOld(lis):\n",
    "    lisafil=orderedunion(lis)\n",
    "    stringafil=\"\" \n",
    "    i=1\n",
    "    for inst in lisafil:\n",
    "        stringafil=stringafil+str(i)+\" \"+inst+\"\\n\\n\"\n",
    "        i=i+1\n",
    "    return stringafil\n",
    "\n",
    "def geraStringAfil(lis):\n",
    "    return fixbin(record[\"Institution\"],replacements)\n",
    "    \n",
    "def geraStringAuthorsOld(record):\n",
    "    lisafil=record[\"Afil\"]\n",
    "    lisauthors=record[\"Authors\"]\n",
    "    dictauthors={}\n",
    "    dictafil={}\n",
    "    lisafilorder=orderedunion(lisafil)\n",
    "    for i in range(len(lisauthors)):\n",
    "        dictauthors[lisauthors[i]]=lisafil[i]\n",
    "    for i in range(len(lisafilorder)):\n",
    "        dictafil[lisafilorder[i]]=i\n",
    "    strsaida=\"\"\n",
    "    for author in lisauthors:\n",
    "        num=dictafil[dictauthors[author]]\n",
    "        strsaida=strsaida+author+\"$^{\"+str(num+1)+\"}$, \"\n",
    "    return strsaida[:-1]\n",
    "\n",
    "def geraStringAuthors(record):\n",
    "    return record[\"Autores\"]\n",
    "\n",
    "    "
   ]
  },
  {
   "cell_type": "markdown",
   "metadata": {
    "run_control": {
     "frozen": false,
     "read_only": false
    }
   },
   "source": [
    "## Entrada dos Dados"
   ]
  },
  {
   "cell_type": "code",
   "execution_count": 23,
   "metadata": {},
   "outputs": [
    {
     "name": "stdout",
     "output_type": "stream",
     "text": [
      "Relatorio de submissoes avaliadas_14-10-2019_14-58-12.xlsx\r\n",
      "Relatorio_de_submissoes_avaliadas_24-10-2019.xlsx\r\n",
      "\u001b[34mauto\u001b[m\u001b[m\r\n",
      "compila.bash\r\n",
      "confprocxmeeting.cls\r\n",
      "gerapdf.ipynb\r\n",
      "\u001b[34mpapers\u001b[m\u001b[m\r\n",
      "papers.log\r\n",
      "papers.tex\r\n",
      "posters.log\r\n",
      "posters.tex\r\n",
      "posters2.tex\r\n",
      "proctext.log\r\n",
      "proctext.tex\r\n",
      "procxmeeting2017.aux\r\n",
      "procxmeeting2017.idx\r\n",
      "procxmeeting2017.ilg\r\n",
      "procxmeeting2017.ind\r\n",
      "procxmeeting2017.log\r\n",
      "procxmeeting2017.npc}\r\n",
      "procxmeeting2017.nps\r\n",
      "procxmeeting2017.nps}\r\n",
      "procxmeeting2017.pdf\r\n",
      "procxmeeting2017.tex\r\n",
      "procxmeeting2017.toc\r\n",
      "procxmeeting2019.aux\r\n",
      "procxmeeting2019.idx\r\n",
      "procxmeeting2019.ilg\r\n",
      "procxmeeting2019.ind\r\n",
      "procxmeeting2019.log\r\n",
      "procxmeeting2019.nps\r\n",
      "procxmeeting2019.pdf\r\n",
      "procxmeeting2019.tex\r\n",
      "procxmeeting2019.toc\r\n"
     ]
    }
   ],
   "source": [
    "!ls"
   ]
  },
  {
   "cell_type": "code",
   "execution_count": 34,
   "metadata": {
    "ExecuteTime": {
     "end_time": "2017-10-15T01:21:57.115776Z",
     "start_time": "2017-10-15T01:21:57.048074Z"
    },
    "run_control": {
     "frozen": false,
     "read_only": false
    }
   },
   "outputs": [],
   "source": [
    "artsds=pd.read_excel(prefix+'Relatorio_de_submissoes_avaliadas_24-10-2019.xlsx',index_col=0)"
   ]
  },
  {
   "cell_type": "code",
   "execution_count": 35,
   "metadata": {},
   "outputs": [
    {
     "data": {
      "text/html": [
       "<div>\n",
       "<style scoped>\n",
       "    .dataframe tbody tr th:only-of-type {\n",
       "        vertical-align: middle;\n",
       "    }\n",
       "\n",
       "    .dataframe tbody tr th {\n",
       "        vertical-align: top;\n",
       "    }\n",
       "\n",
       "    .dataframe thead th {\n",
       "        text-align: right;\n",
       "    }\n",
       "</style>\n",
       "<table border=\"1\" class=\"dataframe\">\n",
       "  <thead>\n",
       "    <tr style=\"text-align: right;\">\n",
       "      <th></th>\n",
       "      <th>Codigo</th>\n",
       "      <th>Modalidade</th>\n",
       "      <th>Área Temática</th>\n",
       "      <th>Título</th>\n",
       "      <th>Autores</th>\n",
       "      <th>Emails</th>\n",
       "      <th>Apresentadores</th>\n",
       "      <th>Situação</th>\n",
       "      <th>Apresentado</th>\n",
       "      <th>Submeteu Trabalho Completo</th>\n",
       "      <th>Resumo</th>\n",
       "      <th>Link Trabalho Completo</th>\n",
       "      <th>Arquivo</th>\n",
       "      <th>Arquivo do Resumo</th>\n",
       "      <th>Funding</th>\n",
       "      <th>Institution</th>\n",
       "    </tr>\n",
       "    <tr>\n",
       "      <th>Número</th>\n",
       "      <th></th>\n",
       "      <th></th>\n",
       "      <th></th>\n",
       "      <th></th>\n",
       "      <th></th>\n",
       "      <th></th>\n",
       "      <th></th>\n",
       "      <th></th>\n",
       "      <th></th>\n",
       "      <th></th>\n",
       "      <th></th>\n",
       "      <th></th>\n",
       "      <th></th>\n",
       "      <th></th>\n",
       "      <th></th>\n",
       "      <th></th>\n",
       "    </tr>\n",
       "  </thead>\n",
       "  <tbody>\n",
       "    <tr>\n",
       "      <th>198424</th>\n",
       "      <td>DA</td>\n",
       "      <td>Dissertation Award</td>\n",
       "      <td>Database and Software Development</td>\n",
       "      <td>N3O: A NEAT expansion for improving classifica...</td>\n",
       "      <td>Bruno Iochins Grisci,Marcio Dorn,Mario Inostro...</td>\n",
       "      <td>bigrisci@inf.ufrgs.br,mdorn@inf.ufrgs.br,mario...</td>\n",
       "      <td>Bruno Iochins Grisci</td>\n",
       "      <td>Aprovado</td>\n",
       "      <td>Não</td>\n",
       "      <td>Não</td>\n",
       "      <td>Microarrays are one of the primary techniques ...</td>\n",
       "      <td>NaN</td>\n",
       "      <td>NaN</td>\n",
       "      <td>https://even3.blob.core.windows.net/formulario...</td>\n",
       "      <td>NaN</td>\n",
       "      <td>Universidade Federal do Rio Grande do Sul (UFRGS)</td>\n",
       "    </tr>\n",
       "    <tr>\n",
       "      <th>201719</th>\n",
       "      <td>DA</td>\n",
       "      <td>Dissertation Award</td>\n",
       "      <td>RNA and Transcriptomics</td>\n",
       "      <td>Uncovering the mouse olfactory long non-coding...</td>\n",
       "      <td>Antônio Pedro de Castello Branco da Rocha Cama...</td>\n",
       "      <td>antoniop.camargo@gmail.com,t.seike@gmail.com,m...</td>\n",
       "      <td>Antônio Pedro de Castello Branco da Rocha Camargo</td>\n",
       "      <td>Aprovado</td>\n",
       "      <td>Não</td>\n",
       "      <td>Não</td>\n",
       "      <td>(PDF formatado e com figuras em anexo)\\n\\nAbst...</td>\n",
       "      <td>NaN</td>\n",
       "      <td>NaN</td>\n",
       "      <td>https://even3.blob.core.windows.net/formulario...</td>\n",
       "      <td>NaN</td>\n",
       "      <td>Universidade Estadual de Campinas</td>\n",
       "    </tr>\n",
       "    <tr>\n",
       "      <th>190947</th>\n",
       "      <td>DA01</td>\n",
       "      <td>Dissertation Award</td>\n",
       "      <td>Proteins and Proteomics</td>\n",
       "      <td>DETECÇÃO E VISUALIZAÇÃO DE SUBESTRUTURAS COMUN...</td>\n",
       "      <td>Vagner Soares Ribeiro,Charles A. Santana,Alexa...</td>\n",
       "      <td>vsheik@gmail.com,charles.santana@ufv.br,alexan...</td>\n",
       "      <td>Vagner Soares Ribeiro</td>\n",
       "      <td>Aprovado</td>\n",
       "      <td>Não</td>\n",
       "      <td>Não</td>\n",
       "      <td>O volume de dados disponíveis sobre sequências...</td>\n",
       "      <td>NaN</td>\n",
       "      <td>NaN</td>\n",
       "      <td>https://even3.blob.core.windows.net/formulario...</td>\n",
       "      <td>NaN</td>\n",
       "      <td>Universidade Federal de Viçosa, UFV</td>\n",
       "    </tr>\n",
       "    <tr>\n",
       "      <th>190830</th>\n",
       "      <td>HT</td>\n",
       "      <td>HighLight Tracks</td>\n",
       "      <td>Database and Software Development</td>\n",
       "      <td>mirtronDB: a mirtron knowledge base</td>\n",
       "      <td>Bruno Henrique Ribeiro da Fonseca,Douglas Silv...</td>\n",
       "      <td>fonseca.adm@hotmail.com,doug@rc.unesp.br,pasch...</td>\n",
       "      <td>Alexandre R Paschoal</td>\n",
       "      <td>Aprovado</td>\n",
       "      <td>Não</td>\n",
       "      <td>Não</td>\n",
       "      <td>Mirtrons arise from short introns with atypica...</td>\n",
       "      <td>NaN</td>\n",
       "      <td>https://even3.blob.core.windows.net/formulario...</td>\n",
       "      <td>NaN</td>\n",
       "      <td>NaN</td>\n",
       "      <td>UTFPR</td>\n",
       "    </tr>\n",
       "    <tr>\n",
       "      <th>188974</th>\n",
       "      <td>HT</td>\n",
       "      <td>HighLight Tracks</td>\n",
       "      <td>Genes and Genomics</td>\n",
       "      <td>Genomic analysis unveils important aspects of ...</td>\n",
       "      <td>Hemanoel Passarelli Araujo,Jussara Kasuko Palm...</td>\n",
       "      <td>hemanuel.passarelli@gmail.com,jukasuko@gmail.c...</td>\n",
       "      <td>Hemanoel Passarelli Araujo</td>\n",
       "      <td>Aprovado</td>\n",
       "      <td>Não</td>\n",
       "      <td>Não</td>\n",
       "      <td>Klebsiella aerogenes is an important pathogen ...</td>\n",
       "      <td>NaN</td>\n",
       "      <td>https://even3.blob.core.windows.net/formulario...</td>\n",
       "      <td>NaN</td>\n",
       "      <td>NaN</td>\n",
       "      <td>NaN</td>\n",
       "    </tr>\n",
       "    <tr>\n",
       "      <th>...</th>\n",
       "      <td>...</td>\n",
       "      <td>...</td>\n",
       "      <td>...</td>\n",
       "      <td>...</td>\n",
       "      <td>...</td>\n",
       "      <td>...</td>\n",
       "      <td>...</td>\n",
       "      <td>...</td>\n",
       "      <td>...</td>\n",
       "      <td>...</td>\n",
       "      <td>...</td>\n",
       "      <td>...</td>\n",
       "      <td>...</td>\n",
       "      <td>...</td>\n",
       "      <td>...</td>\n",
       "      <td>...</td>\n",
       "    </tr>\n",
       "    <tr>\n",
       "      <th>202192</th>\n",
       "      <td>TR31</td>\n",
       "      <td>Poster</td>\n",
       "      <td>RNA and Transcriptomics</td>\n",
       "      <td>piRNAs expression profiles: Estimates and insi...</td>\n",
       "      <td>Ricardo Piuco,Pedro A F Galante</td>\n",
       "      <td>rpiuco@mochsl.org.br,pgalante@gmail.com</td>\n",
       "      <td>Ricardo Piuco</td>\n",
       "      <td>Aprovado</td>\n",
       "      <td>Não</td>\n",
       "      <td>Não</td>\n",
       "      <td>Small RNAs plays several roles regulating gene...</td>\n",
       "      <td>NaN</td>\n",
       "      <td>NaN</td>\n",
       "      <td>NaN</td>\n",
       "      <td>NaN</td>\n",
       "      <td>NaN</td>\n",
       "    </tr>\n",
       "    <tr>\n",
       "      <th>201518</th>\n",
       "      <td>TR32</td>\n",
       "      <td>Poster</td>\n",
       "      <td>RNA and Transcriptomics</td>\n",
       "      <td>Circular RNAs contribute to tumorigenesis and ...</td>\n",
       "      <td>Vanessa Galdeno Freitas,Pedro Alexandre Favore...</td>\n",
       "      <td>vanessagaldeno@gmail.com,pedro.afgalante@hsl.o...</td>\n",
       "      <td>Vanessa Galdeno Freitas</td>\n",
       "      <td>Aprovado</td>\n",
       "      <td>Não</td>\n",
       "      <td>Não</td>\n",
       "      <td>Circular RNAs (circRNAs) are a new class of RN...</td>\n",
       "      <td>NaN</td>\n",
       "      <td>NaN</td>\n",
       "      <td>NaN</td>\n",
       "      <td>CAPES</td>\n",
       "      <td>Interunidades em Bioinformática - IME USP / In...</td>\n",
       "    </tr>\n",
       "    <tr>\n",
       "      <th>190102</th>\n",
       "      <td>TR33</td>\n",
       "      <td>Poster</td>\n",
       "      <td>RNA and Transcriptomics</td>\n",
       "      <td>The effect of genetic diversity in differentia...</td>\n",
       "      <td>Victor Mello,Ana Letycia Basso Garcia,Fernando...</td>\n",
       "      <td>victor.pessoa@usp.br,garcia.alb@usp.br,fernand...</td>\n",
       "      <td>Victor Mello</td>\n",
       "      <td>Aprovado</td>\n",
       "      <td>Não</td>\n",
       "      <td>Não</td>\n",
       "      <td>Differential gene expression studies focus on ...</td>\n",
       "      <td>NaN</td>\n",
       "      <td>NaN</td>\n",
       "      <td>NaN</td>\n",
       "      <td>FAPESP</td>\n",
       "      <td>ESALQ - USP</td>\n",
       "    </tr>\n",
       "    <tr>\n",
       "      <th>201385</th>\n",
       "      <td>TR34</td>\n",
       "      <td>Poster</td>\n",
       "      <td>RNA and Transcriptomics</td>\n",
       "      <td>Identification of alternative splicing variant...</td>\n",
       "      <td>Vinicius da Silva Coutinho Parreira,Letícia Gr...</td>\n",
       "      <td>parreira.vsc@gmail.com,grazielalcs@gmail.com,f...</td>\n",
       "      <td>Vinicius da Silva Coutinho Parreira</td>\n",
       "      <td>Aprovado</td>\n",
       "      <td>Não</td>\n",
       "      <td>Não</td>\n",
       "      <td>DNA high-throughput sequencing associated with...</td>\n",
       "      <td>NaN</td>\n",
       "      <td>NaN</td>\n",
       "      <td>NaN</td>\n",
       "      <td>National Council for Scientific and Technologi...</td>\n",
       "      <td>Laboratory of Gene Expression Regulation, Carl...</td>\n",
       "    </tr>\n",
       "    <tr>\n",
       "      <th>196669</th>\n",
       "      <td>SD01</td>\n",
       "      <td>Software demonstration</td>\n",
       "      <td>Database and Software Development</td>\n",
       "      <td>MB-Isoster</td>\n",
       "      <td>Thiago Castilho Elias,William Mesquita da Cost...</td>\n",
       "      <td>tcastilho31@yahoo.com.br,williammesquita49@out...</td>\n",
       "      <td>William Mesquita da Costa</td>\n",
       "      <td>Aprovado</td>\n",
       "      <td>Não</td>\n",
       "      <td>Não</td>\n",
       "      <td>In rational drug development field, bioisoster...</td>\n",
       "      <td>NaN</td>\n",
       "      <td>NaN</td>\n",
       "      <td>NaN</td>\n",
       "      <td>NaN</td>\n",
       "      <td>NaN</td>\n",
       "    </tr>\n",
       "  </tbody>\n",
       "</table>\n",
       "<p>178 rows × 16 columns</p>\n",
       "</div>"
      ],
      "text/plain": [
       "       Codigo              Modalidade                      Área Temática  \\\n",
       "Número                                                                     \n",
       "198424     DA      Dissertation Award  Database and Software Development   \n",
       "201719     DA      Dissertation Award            RNA and Transcriptomics   \n",
       "190947   DA01      Dissertation Award            Proteins and Proteomics   \n",
       "190830     HT        HighLight Tracks  Database and Software Development   \n",
       "188974     HT        HighLight Tracks                 Genes and Genomics   \n",
       "...       ...                     ...                                ...   \n",
       "202192   TR31                  Poster            RNA and Transcriptomics   \n",
       "201518   TR32                  Poster            RNA and Transcriptomics   \n",
       "190102   TR33                  Poster            RNA and Transcriptomics   \n",
       "201385   TR34                  Poster            RNA and Transcriptomics   \n",
       "196669   SD01  Software demonstration  Database and Software Development   \n",
       "\n",
       "                                                   Título  \\\n",
       "Número                                                      \n",
       "198424  N3O: A NEAT expansion for improving classifica...   \n",
       "201719  Uncovering the mouse olfactory long non-coding...   \n",
       "190947  DETECÇÃO E VISUALIZAÇÃO DE SUBESTRUTURAS COMUN...   \n",
       "190830                mirtronDB: a mirtron knowledge base   \n",
       "188974  Genomic analysis unveils important aspects of ...   \n",
       "...                                                   ...   \n",
       "202192  piRNAs expression profiles: Estimates and insi...   \n",
       "201518  Circular RNAs contribute to tumorigenesis and ...   \n",
       "190102  The effect of genetic diversity in differentia...   \n",
       "201385  Identification of alternative splicing variant...   \n",
       "196669                                         MB-Isoster   \n",
       "\n",
       "                                                  Autores  \\\n",
       "Número                                                      \n",
       "198424  Bruno Iochins Grisci,Marcio Dorn,Mario Inostro...   \n",
       "201719  Antônio Pedro de Castello Branco da Rocha Cama...   \n",
       "190947  Vagner Soares Ribeiro,Charles A. Santana,Alexa...   \n",
       "190830  Bruno Henrique Ribeiro da Fonseca,Douglas Silv...   \n",
       "188974  Hemanoel Passarelli Araujo,Jussara Kasuko Palm...   \n",
       "...                                                   ...   \n",
       "202192                    Ricardo Piuco,Pedro A F Galante   \n",
       "201518  Vanessa Galdeno Freitas,Pedro Alexandre Favore...   \n",
       "190102  Victor Mello,Ana Letycia Basso Garcia,Fernando...   \n",
       "201385  Vinicius da Silva Coutinho Parreira,Letícia Gr...   \n",
       "196669  Thiago Castilho Elias,William Mesquita da Cost...   \n",
       "\n",
       "                                                   Emails  \\\n",
       "Número                                                      \n",
       "198424  bigrisci@inf.ufrgs.br,mdorn@inf.ufrgs.br,mario...   \n",
       "201719  antoniop.camargo@gmail.com,t.seike@gmail.com,m...   \n",
       "190947  vsheik@gmail.com,charles.santana@ufv.br,alexan...   \n",
       "190830  fonseca.adm@hotmail.com,doug@rc.unesp.br,pasch...   \n",
       "188974  hemanuel.passarelli@gmail.com,jukasuko@gmail.c...   \n",
       "...                                                   ...   \n",
       "202192            rpiuco@mochsl.org.br,pgalante@gmail.com   \n",
       "201518  vanessagaldeno@gmail.com,pedro.afgalante@hsl.o...   \n",
       "190102  victor.pessoa@usp.br,garcia.alb@usp.br,fernand...   \n",
       "201385  parreira.vsc@gmail.com,grazielalcs@gmail.com,f...   \n",
       "196669  tcastilho31@yahoo.com.br,williammesquita49@out...   \n",
       "\n",
       "                                           Apresentadores  Situação  \\\n",
       "Número                                                                \n",
       "198424                               Bruno Iochins Grisci  Aprovado   \n",
       "201719  Antônio Pedro de Castello Branco da Rocha Camargo  Aprovado   \n",
       "190947                              Vagner Soares Ribeiro  Aprovado   \n",
       "190830                               Alexandre R Paschoal  Aprovado   \n",
       "188974                         Hemanoel Passarelli Araujo  Aprovado   \n",
       "...                                                   ...       ...   \n",
       "202192                                      Ricardo Piuco  Aprovado   \n",
       "201518                            Vanessa Galdeno Freitas  Aprovado   \n",
       "190102                                       Victor Mello  Aprovado   \n",
       "201385                Vinicius da Silva Coutinho Parreira  Aprovado   \n",
       "196669                          William Mesquita da Costa  Aprovado   \n",
       "\n",
       "       Apresentado Submeteu Trabalho Completo  \\\n",
       "Número                                          \n",
       "198424         Não                        Não   \n",
       "201719         Não                        Não   \n",
       "190947         Não                        Não   \n",
       "190830         Não                        Não   \n",
       "188974         Não                        Não   \n",
       "...            ...                        ...   \n",
       "202192         Não                        Não   \n",
       "201518         Não                        Não   \n",
       "190102         Não                        Não   \n",
       "201385         Não                        Não   \n",
       "196669         Não                        Não   \n",
       "\n",
       "                                                   Resumo  \\\n",
       "Número                                                      \n",
       "198424  Microarrays are one of the primary techniques ...   \n",
       "201719  (PDF formatado e com figuras em anexo)\\n\\nAbst...   \n",
       "190947  O volume de dados disponíveis sobre sequências...   \n",
       "190830  Mirtrons arise from short introns with atypica...   \n",
       "188974  Klebsiella aerogenes is an important pathogen ...   \n",
       "...                                                   ...   \n",
       "202192  Small RNAs plays several roles regulating gene...   \n",
       "201518  Circular RNAs (circRNAs) are a new class of RN...   \n",
       "190102  Differential gene expression studies focus on ...   \n",
       "201385  DNA high-throughput sequencing associated with...   \n",
       "196669  In rational drug development field, bioisoster...   \n",
       "\n",
       "        Link Trabalho Completo  \\\n",
       "Número                           \n",
       "198424                     NaN   \n",
       "201719                     NaN   \n",
       "190947                     NaN   \n",
       "190830                     NaN   \n",
       "188974                     NaN   \n",
       "...                        ...   \n",
       "202192                     NaN   \n",
       "201518                     NaN   \n",
       "190102                     NaN   \n",
       "201385                     NaN   \n",
       "196669                     NaN   \n",
       "\n",
       "                                                  Arquivo  \\\n",
       "Número                                                      \n",
       "198424                                                NaN   \n",
       "201719                                                NaN   \n",
       "190947                                                NaN   \n",
       "190830  https://even3.blob.core.windows.net/formulario...   \n",
       "188974  https://even3.blob.core.windows.net/formulario...   \n",
       "...                                                   ...   \n",
       "202192                                                NaN   \n",
       "201518                                                NaN   \n",
       "190102                                                NaN   \n",
       "201385                                                NaN   \n",
       "196669                                                NaN   \n",
       "\n",
       "                                        Arquivo do Resumo  \\\n",
       "Número                                                      \n",
       "198424  https://even3.blob.core.windows.net/formulario...   \n",
       "201719  https://even3.blob.core.windows.net/formulario...   \n",
       "190947  https://even3.blob.core.windows.net/formulario...   \n",
       "190830                                                NaN   \n",
       "188974                                                NaN   \n",
       "...                                                   ...   \n",
       "202192                                                NaN   \n",
       "201518                                                NaN   \n",
       "190102                                                NaN   \n",
       "201385                                                NaN   \n",
       "196669                                                NaN   \n",
       "\n",
       "                                                  Funding  \\\n",
       "Número                                                      \n",
       "198424                                                NaN   \n",
       "201719                                                NaN   \n",
       "190947                                                NaN   \n",
       "190830                                                NaN   \n",
       "188974                                                NaN   \n",
       "...                                                   ...   \n",
       "202192                                                NaN   \n",
       "201518                                              CAPES   \n",
       "190102                                             FAPESP   \n",
       "201385  National Council for Scientific and Technologi...   \n",
       "196669                                                NaN   \n",
       "\n",
       "                                              Institution  \n",
       "Número                                                     \n",
       "198424  Universidade Federal do Rio Grande do Sul (UFRGS)  \n",
       "201719                  Universidade Estadual de Campinas  \n",
       "190947                Universidade Federal de Viçosa, UFV  \n",
       "190830                                              UTFPR  \n",
       "188974                                                NaN  \n",
       "...                                                   ...  \n",
       "202192                                                NaN  \n",
       "201518  Interunidades em Bioinformática - IME USP / In...  \n",
       "190102                                        ESALQ - USP  \n",
       "201385  Laboratory of Gene Expression Regulation, Carl...  \n",
       "196669                                                NaN  \n",
       "\n",
       "[178 rows x 16 columns]"
      ]
     },
     "execution_count": 35,
     "metadata": {},
     "output_type": "execute_result"
    }
   ],
   "source": [
    "artsds"
   ]
  },
  {
   "cell_type": "markdown",
   "metadata": {
    "run_control": {
     "frozen": false,
     "read_only": false
    }
   },
   "source": [
    "Insere duas colunas no lugar da Coluna de Autores"
   ]
  },
  {
   "cell_type": "code",
   "execution_count": 36,
   "metadata": {},
   "outputs": [
    {
     "data": {
      "text/plain": [
       "Index(['Codigo', 'Modalidade', 'Área Temática', 'Título', 'Autores', 'Emails',\n",
       "       'Apresentadores', 'Situação', 'Apresentado',\n",
       "       'Submeteu Trabalho Completo', 'Resumo', 'Link Trabalho Completo',\n",
       "       'Arquivo', 'Arquivo do Resumo', 'Funding', 'Institution'],\n",
       "      dtype='object')"
      ]
     },
     "execution_count": 36,
     "metadata": {},
     "output_type": "execute_result"
    }
   ],
   "source": [
    "artsds.columns"
   ]
  },
  {
   "cell_type": "code",
   "execution_count": 37,
   "metadata": {},
   "outputs": [
    {
     "data": {
      "text/plain": [
       "Número\n",
       "198424    Bruno Iochins Grisci,Marcio Dorn,Mario Inostro...\n",
       "201719    Antônio Pedro de Castello Branco da Rocha Cama...\n",
       "190947    Vagner Soares Ribeiro,Charles A. Santana,Alexa...\n",
       "190830    Bruno Henrique Ribeiro da Fonseca,Douglas Silv...\n",
       "188974    Hemanoel Passarelli Araujo,Jussara Kasuko Palm...\n",
       "                                ...                        \n",
       "202192                      Ricardo Piuco,Pedro A F Galante\n",
       "201518    Vanessa Galdeno Freitas,Pedro Alexandre Favore...\n",
       "190102    Victor Mello,Ana Letycia Basso Garcia,Fernando...\n",
       "201385    Vinicius da Silva Coutinho Parreira,Letícia Gr...\n",
       "196669    Thiago Castilho Elias,William Mesquita da Cost...\n",
       "Name: Autores, Length: 178, dtype: object"
      ]
     },
     "execution_count": 37,
     "metadata": {},
     "output_type": "execute_result"
    }
   ],
   "source": [
    "artsds[\"Autores\"]"
   ]
  },
  {
   "cell_type": "markdown",
   "metadata": {},
   "source": [
    "## Separação em Grupos"
   ]
  },
  {
   "cell_type": "code",
   "execution_count": 47,
   "metadata": {
    "ExecuteTime": {
     "end_time": "2017-10-15T13:04:26.123242Z",
     "start_time": "2017-10-15T13:04:26.026451Z"
    }
   },
   "outputs": [],
   "source": [
    "artsdsgrouped=artsds.groupby([\"Modalidade\"],axis=0)\n",
    "artsdsposter=artsdsgrouped.get_group('Poster')\n",
    "artsdsHT=artsdsgrouped.get_group('HighLight Tracks')\n",
    "artsdsDT=artsdsgrouped.get_group('Dissertation Award')\n"
   ]
  },
  {
   "cell_type": "code",
   "execution_count": 48,
   "metadata": {},
   "outputs": [
    {
     "data": {
      "text/plain": [
       "Index(['Codigo', 'Modalidade', 'Área Temática', 'Título', 'Autores', 'Emails',\n",
       "       'Apresentadores', 'Situação', 'Apresentado',\n",
       "       'Submeteu Trabalho Completo', 'Resumo', 'Link Trabalho Completo',\n",
       "       'Arquivo', 'Arquivo do Resumo', 'Funding', 'Institution'],\n",
       "      dtype='object')"
      ]
     },
     "execution_count": 48,
     "metadata": {},
     "output_type": "execute_result"
    }
   ],
   "source": [
    "artsds.iloc[0].index"
   ]
  },
  {
   "cell_type": "markdown",
   "metadata": {},
   "source": [
    "## Gera os arquivos com os abstracts"
   ]
  },
  {
   "cell_type": "code",
   "execution_count": 49,
   "metadata": {
    "ExecuteTime": {
     "end_time": "2017-10-15T01:22:06.889768Z",
     "start_time": "2017-10-15T01:22:06.691345Z"
    },
    "run_control": {
     "frozen": false,
     "read_only": false
    }
   },
   "outputs": [
    {
     "name": "stdout",
     "output_type": "stream",
     "text": [
      "198424\n",
      "201719\n",
      "190947\n",
      "190830\n",
      "188974\n",
      "201371\n",
      "190030\n",
      "190542\n",
      "180929\n",
      "201545\n",
      "190044\n",
      "211733\n",
      "189628\n",
      "189566\n",
      "189373\n",
      "190043\n",
      "190045\n",
      "201623\n",
      "211385\n",
      "211699\n",
      "201254\n",
      "188839\n",
      "210676\n",
      "201343\n",
      "201421\n",
      "201610\n",
      "211863\n",
      "208811\n",
      "198393\n",
      "190251\n",
      "191455\n",
      "201613\n",
      "201674\n",
      "201447\n",
      "201317\n",
      "201202\n",
      "190847\n",
      "210683\n",
      "181353\n",
      "202805\n",
      "201465\n",
      "190060\n",
      "192871\n",
      "201712\n",
      "201730\n",
      "201344\n",
      "202045\n",
      "201829\n",
      "211561\n",
      "193434\n",
      "199174\n",
      "211838\n",
      "190658\n",
      "201327\n",
      "201568\n",
      "200200\n",
      "201354\n",
      "211308\n",
      "195426\n",
      "202006\n",
      "189638\n",
      "211276\n",
      "212533\n",
      "212539\n",
      "211575\n",
      "201722\n",
      "201636\n",
      "196221\n",
      "211208\n",
      "201634\n",
      "201635\n",
      "201585\n",
      "197514\n",
      "201328\n",
      "211358\n",
      "211386\n",
      "201444\n",
      "211524\n",
      "201772\n",
      "211728\n",
      "199542\n",
      "201643\n",
      "201645\n",
      "211217\n",
      "212001\n",
      "212187\n",
      "194642\n",
      "201650\n",
      "201638\n",
      "201185\n",
      "201350\n",
      "201584\n",
      "180792\n",
      "208813\n",
      "211986\n",
      "201507\n",
      "202076\n",
      "210930\n",
      "211177\n",
      "201630\n",
      "201671\n",
      "200863\n",
      "211423\n",
      "210611\n",
      "201860\n",
      "190910\n",
      "201223\n",
      "196113\n",
      "190006\n",
      "190850\n",
      "211375\n",
      "211380\n",
      "211193\n",
      "193435\n",
      "199094\n",
      "209321\n",
      "201380\n",
      "202000\n",
      "202003\n",
      "202028\n",
      "202034\n",
      "201942\n",
      "191535\n",
      "201699\n",
      "201740\n",
      "201494\n",
      "201728\n",
      "201454\n",
      "198401\n",
      "201660\n",
      "200803\n",
      "201734\n",
      "190288\n",
      "186188\n",
      "201655\n",
      "190633\n",
      "201661\n",
      "200294\n",
      "201515\n",
      "200819\n",
      "199175\n",
      "200264\n",
      "201276\n",
      "195814\n",
      "201248\n",
      "201492\n",
      "190224\n",
      "189564\n",
      "201666\n",
      "201573\n",
      "201692\n",
      "190656\n",
      "190037\n",
      "190227\n",
      "194221\n",
      "192650\n",
      "201173\n",
      "201570\n",
      "211404\n",
      "201598\n",
      "209427\n",
      "201658\n",
      "197831\n",
      "212193\n",
      "201547\n",
      "201930\n",
      "211573\n",
      "201688\n",
      "190393\n",
      "201628\n",
      "190394\n",
      "211625\n",
      "201577\n",
      "202192\n",
      "201518\n",
      "190102\n",
      "201385\n",
      "196669\n"
     ]
    }
   ],
   "source": [
    "for index, record in artsds.iterrows():\n",
    "    #print(record[\"Autores\"])\n",
    "    author=fixbin(record[\"Autores\"],replacements)\n",
    "    title=fixbin(record[\"Título\"],replacements)\n",
    "    if record[\"Institution\"]!=record[\"Institution\"]:\n",
    "        afiliation=\"\"\n",
    "    else:\n",
    "        afiliation=fixbin(record[\"Institution\"],replacements)\n",
    "    print(index)\n",
    "    if record[\"Modalidade\"]==\"Poster\":\n",
    "        abstract=fixbin(record[\"Resumo\"],replacements)\n",
    "    else:\n",
    "        abstract=\"\"\n",
    "    if record[\"Funding\"]!=record[\"Funding\"]:\n",
    "        funding=\"\"\n",
    "    else:\n",
    "        funding=fixbin(record[\"Funding\"],replacements)\n",
    "    if record[\"Modalidade\"]==\"Poster\":\n",
    "        stringfileresumo=strlatex.format(title,author,afiliation,abstract,funding)\n",
    "    else:\n",
    "        stringfileresumo=strlatex1.format(title,author,afiliation)\n",
    "    f = open('papers/art'+str(index)+\".tex\", 'w')\n",
    "    f.write(stringfileresumo)\n",
    "    f.close()"
   ]
  },
  {
   "cell_type": "code",
   "execution_count": 50,
   "metadata": {},
   "outputs": [
    {
     "name": "stdout",
     "output_type": "stream",
     "text": [
      "/Users/lemke/Documents/procxmeeting2019\r\n"
     ]
    }
   ],
   "source": [
    "!pwd"
   ]
  },
  {
   "cell_type": "markdown",
   "metadata": {},
   "source": [
    "## Gera os arquivos com os índices "
   ]
  },
  {
   "cell_type": "code",
   "execution_count": 51,
   "metadata": {
    "ExecuteTime": {
     "end_time": "2017-10-16T00:47:01.203914Z",
     "start_time": "2017-10-16T00:47:01.135511Z"
    }
   },
   "outputs": [
    {
     "name": "stdout",
     "output_type": "stream",
     "text": [
      "Database and Software Development\n",
      "Genes and Genomics\n",
      "Phylogeny and Evolution\n",
      "Proteins and Proteomics\n",
      "RNA and Transcriptomics\n",
      "Systems Biology and Networks\n"
     ]
    }
   ],
   "source": [
    "areas = sorted(list(set(artsdsposter[\"Área Temática\"])))\n",
    "groupareas=artsdsposter.groupby([\"Área Temática\"],axis=0)\n",
    "compstr = \"\";\n",
    "for area in areas:\n",
    "    print(area)\n",
    "    ds=groupareas.get_group(area)\n",
    "#    ds=ds.sort_values(\"Poster Code\")\n",
    "    sessionstr = \"\\\\chapter{\" + area + \"}\\n\";\n",
    "    for index, record in ds.iterrows():\n",
    "        title=fixbin(record[\"Título\"],replacements)\n",
    "        author=record[\"Autores\"]\n",
    "        file=\"art\"+str(index)\n",
    "        indexstr=\",\".join([\"\\\\index{\"+brnames(aut)+\"}\" for aut in record[\"Autores\"].split(\",\")])\n",
    "        sessionstr=sessionstr+strlatex2.format(title,author,indexstr,file)\n",
    "    compstr = compstr + sessionstr\n",
    "f = open('posters.tex', 'w')\n",
    "f.write(compstr)\n",
    "f.close()"
   ]
  },
  {
   "cell_type": "code",
   "execution_count": 52,
   "metadata": {
    "ExecuteTime": {
     "end_time": "2017-10-15T17:05:59.808034Z",
     "start_time": "2017-10-15T17:05:59.787370Z"
    }
   },
   "outputs": [
    {
     "name": "stdout",
     "output_type": "stream",
     "text": [
      "190830\n",
      "188974\n",
      "201371\n",
      "190030\n",
      "190542\n",
      "180929\n",
      "201545\n"
     ]
    }
   ],
   "source": [
    "compstr = \"\";\n",
    "ds=artsdsHT\n",
    "sessionstr=\"\"\n",
    "#ds=ds.sort_values(\"Poster Code\")\n",
    "for index, record in ds.iterrows():\n",
    "    print(index)\n",
    "    title=fixbin(record[\"Título\"],replacements)\n",
    "    author=record[\"Autores\"]\n",
    "    file=\"art\"+str(index)\n",
    "    indexstr=\",\".join([\"\\\\index{\"+brnames(aut)+\"}\" for aut in record[\"Autores\"].split(\",\")])\n",
    "    sessionstr=sessionstr+strlatex2.format(title,author,indexstr,file)\n",
    "compstr = compstr + sessionstr\n",
    "f = open('papers.tex', 'w')\n",
    "f.write(compstr)\n",
    "f.close()"
   ]
  },
  {
   "cell_type": "code",
   "execution_count": 53,
   "metadata": {},
   "outputs": [
    {
     "name": "stdout",
     "output_type": "stream",
     "text": [
      "198424\n",
      "201719\n",
      "190947\n"
     ]
    }
   ],
   "source": [
    "compstr = \"\";\n",
    "ds=artsdsDT\n",
    "sessionstr=\"\"\n",
    "#ds=ds.sort_values(\"Poster Code\")\n",
    "for index, record in ds.iterrows():\n",
    "    print(index)\n",
    "    title=fixbin(record[\"Título\"],replacements)\n",
    "    author=record[\"Autores\"]\n",
    "    file=\"art\"+str(index)\n",
    "    indexstr=\",\".join([\"\\\\index{\"+brnames(aut)+\"}\" for aut in record[\"Autores\"].split(\",\")])\n",
    "    sessionstr=sessionstr+strlatex2.format(title,author,indexstr,file)\n",
    "compstr = compstr + sessionstr\n",
    "f = open('teses.tex', 'w')\n",
    "f.write(compstr)\n",
    "f.close()"
   ]
  },
  {
   "cell_type": "code",
   "execution_count": null,
   "metadata": {},
   "outputs": [],
   "source": []
  }
 ],
 "metadata": {
  "kernelspec": {
   "display_name": "Python 3",
   "language": "python",
   "name": "python3"
  },
  "language_info": {
   "codemirror_mode": {
    "name": "ipython",
    "version": 3
   },
   "file_extension": ".py",
   "mimetype": "text/x-python",
   "name": "python",
   "nbconvert_exporter": "python",
   "pygments_lexer": "ipython3",
   "version": "3.7.4"
  },
  "latex_envs": {
   "bibliofile": "biblio.bib",
   "cite_by": "apalike",
   "current_citInitial": 1,
   "eqLabelWithNumbers": true,
   "eqNumInitial": 0
  }
 },
 "nbformat": 4,
 "nbformat_minor": 2
}
